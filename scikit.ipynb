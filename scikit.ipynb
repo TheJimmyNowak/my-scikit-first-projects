{
 "cells": [
  {
   "cell_type": "code",
   "execution_count": 1,
   "metadata": {},
   "outputs": [],
   "source": [
    "from sklearn.datasets import load_iris\n",
    "\n",
    "# Dataset Loading\n",
    "iris = load_iris()"
   ]
  },
  {
   "cell_type": "code",
   "execution_count": 2,
   "metadata": {},
   "outputs": [
    {
     "name": "stdout",
     "output_type": "stream",
     "text": [
      "{'data': array([[5.1, 3.5, 1.4, 0.2],\n",
      "       [4.9, 3. , 1.4, 0.2],\n",
      "       [4.7, 3.2, 1.3, 0.2],\n",
      "       [4.6, 3.1, 1.5, 0.2],\n",
      "       [5. , 3.6, 1.4, 0.2],\n",
      "       [5.4, 3.9, 1.7, 0.4],\n",
      "       [4.6, 3.4, 1.4, 0.3],\n",
      "       [5. , 3.4, 1.5, 0.2],\n",
      "       [4.4, 2.9, 1.4, 0.2],\n",
      "       [4.9, 3.1, 1.5, 0.1],\n",
      "       [5.4, 3.7, 1.5, 0.2],\n",
      "       [4.8, 3.4, 1.6, 0.2],\n",
      "       [4.8, 3. , 1.4, 0.1],\n",
      "       [4.3, 3. , 1.1, 0.1],\n",
      "       [5.8, 4. , 1.2, 0.2],\n",
      "       [5.7, 4.4, 1.5, 0.4],\n",
      "       [5.4, 3.9, 1.3, 0.4],\n",
      "       [5.1, 3.5, 1.4, 0.3],\n",
      "       [5.7, 3.8, 1.7, 0.3],\n",
      "       [5.1, 3.8, 1.5, 0.3],\n",
      "       [5.4, 3.4, 1.7, 0.2],\n",
      "       [5.1, 3.7, 1.5, 0.4],\n",
      "       [4.6, 3.6, 1. , 0.2],\n",
      "       [5.1, 3.3, 1.7, 0.5],\n",
      "       [4.8, 3.4, 1.9, 0.2],\n",
      "       [5. , 3. , 1.6, 0.2],\n",
      "       [5. , 3.4, 1.6, 0.4],\n",
      "       [5.2, 3.5, 1.5, 0.2],\n",
      "       [5.2, 3.4, 1.4, 0.2],\n",
      "       [4.7, 3.2, 1.6, 0.2],\n",
      "       [4.8, 3.1, 1.6, 0.2],\n",
      "       [5.4, 3.4, 1.5, 0.4],\n",
      "       [5.2, 4.1, 1.5, 0.1],\n",
      "       [5.5, 4.2, 1.4, 0.2],\n",
      "       [4.9, 3.1, 1.5, 0.2],\n",
      "       [5. , 3.2, 1.2, 0.2],\n",
      "       [5.5, 3.5, 1.3, 0.2],\n",
      "       [4.9, 3.6, 1.4, 0.1],\n",
      "       [4.4, 3. , 1.3, 0.2],\n",
      "       [5.1, 3.4, 1.5, 0.2],\n",
      "       [5. , 3.5, 1.3, 0.3],\n",
      "       [4.5, 2.3, 1.3, 0.3],\n",
      "       [4.4, 3.2, 1.3, 0.2],\n",
      "       [5. , 3.5, 1.6, 0.6],\n",
      "       [5.1, 3.8, 1.9, 0.4],\n",
      "       [4.8, 3. , 1.4, 0.3],\n",
      "       [5.1, 3.8, 1.6, 0.2],\n",
      "       [4.6, 3.2, 1.4, 0.2],\n",
      "       [5.3, 3.7, 1.5, 0.2],\n",
      "       [5. , 3.3, 1.4, 0.2],\n",
      "       [7. , 3.2, 4.7, 1.4],\n",
      "       [6.4, 3.2, 4.5, 1.5],\n",
      "       [6.9, 3.1, 4.9, 1.5],\n",
      "       [5.5, 2.3, 4. , 1.3],\n",
      "       [6.5, 2.8, 4.6, 1.5],\n",
      "       [5.7, 2.8, 4.5, 1.3],\n",
      "       [6.3, 3.3, 4.7, 1.6],\n",
      "       [4.9, 2.4, 3.3, 1. ],\n",
      "       [6.6, 2.9, 4.6, 1.3],\n",
      "       [5.2, 2.7, 3.9, 1.4],\n",
      "       [5. , 2. , 3.5, 1. ],\n",
      "       [5.9, 3. , 4.2, 1.5],\n",
      "       [6. , 2.2, 4. , 1. ],\n",
      "       [6.1, 2.9, 4.7, 1.4],\n",
      "       [5.6, 2.9, 3.6, 1.3],\n",
      "       [6.7, 3.1, 4.4, 1.4],\n",
      "       [5.6, 3. , 4.5, 1.5],\n",
      "       [5.8, 2.7, 4.1, 1. ],\n",
      "       [6.2, 2.2, 4.5, 1.5],\n",
      "       [5.6, 2.5, 3.9, 1.1],\n",
      "       [5.9, 3.2, 4.8, 1.8],\n",
      "       [6.1, 2.8, 4. , 1.3],\n",
      "       [6.3, 2.5, 4.9, 1.5],\n",
      "       [6.1, 2.8, 4.7, 1.2],\n",
      "       [6.4, 2.9, 4.3, 1.3],\n",
      "       [6.6, 3. , 4.4, 1.4],\n",
      "       [6.8, 2.8, 4.8, 1.4],\n",
      "       [6.7, 3. , 5. , 1.7],\n",
      "       [6. , 2.9, 4.5, 1.5],\n",
      "       [5.7, 2.6, 3.5, 1. ],\n",
      "       [5.5, 2.4, 3.8, 1.1],\n",
      "       [5.5, 2.4, 3.7, 1. ],\n",
      "       [5.8, 2.7, 3.9, 1.2],\n",
      "       [6. , 2.7, 5.1, 1.6],\n",
      "       [5.4, 3. , 4.5, 1.5],\n",
      "       [6. , 3.4, 4.5, 1.6],\n",
      "       [6.7, 3.1, 4.7, 1.5],\n",
      "       [6.3, 2.3, 4.4, 1.3],\n",
      "       [5.6, 3. , 4.1, 1.3],\n",
      "       [5.5, 2.5, 4. , 1.3],\n",
      "       [5.5, 2.6, 4.4, 1.2],\n",
      "       [6.1, 3. , 4.6, 1.4],\n",
      "       [5.8, 2.6, 4. , 1.2],\n",
      "       [5. , 2.3, 3.3, 1. ],\n",
      "       [5.6, 2.7, 4.2, 1.3],\n",
      "       [5.7, 3. , 4.2, 1.2],\n",
      "       [5.7, 2.9, 4.2, 1.3],\n",
      "       [6.2, 2.9, 4.3, 1.3],\n",
      "       [5.1, 2.5, 3. , 1.1],\n",
      "       [5.7, 2.8, 4.1, 1.3],\n",
      "       [6.3, 3.3, 6. , 2.5],\n",
      "       [5.8, 2.7, 5.1, 1.9],\n",
      "       [7.1, 3. , 5.9, 2.1],\n",
      "       [6.3, 2.9, 5.6, 1.8],\n",
      "       [6.5, 3. , 5.8, 2.2],\n",
      "       [7.6, 3. , 6.6, 2.1],\n",
      "       [4.9, 2.5, 4.5, 1.7],\n",
      "       [7.3, 2.9, 6.3, 1.8],\n",
      "       [6.7, 2.5, 5.8, 1.8],\n",
      "       [7.2, 3.6, 6.1, 2.5],\n",
      "       [6.5, 3.2, 5.1, 2. ],\n",
      "       [6.4, 2.7, 5.3, 1.9],\n",
      "       [6.8, 3. , 5.5, 2.1],\n",
      "       [5.7, 2.5, 5. , 2. ],\n",
      "       [5.8, 2.8, 5.1, 2.4],\n",
      "       [6.4, 3.2, 5.3, 2.3],\n",
      "       [6.5, 3. , 5.5, 1.8],\n",
      "       [7.7, 3.8, 6.7, 2.2],\n",
      "       [7.7, 2.6, 6.9, 2.3],\n",
      "       [6. , 2.2, 5. , 1.5],\n",
      "       [6.9, 3.2, 5.7, 2.3],\n",
      "       [5.6, 2.8, 4.9, 2. ],\n",
      "       [7.7, 2.8, 6.7, 2. ],\n",
      "       [6.3, 2.7, 4.9, 1.8],\n",
      "       [6.7, 3.3, 5.7, 2.1],\n",
      "       [7.2, 3.2, 6. , 1.8],\n",
      "       [6.2, 2.8, 4.8, 1.8],\n",
      "       [6.1, 3. , 4.9, 1.8],\n",
      "       [6.4, 2.8, 5.6, 2.1],\n",
      "       [7.2, 3. , 5.8, 1.6],\n",
      "       [7.4, 2.8, 6.1, 1.9],\n",
      "       [7.9, 3.8, 6.4, 2. ],\n",
      "       [6.4, 2.8, 5.6, 2.2],\n",
      "       [6.3, 2.8, 5.1, 1.5],\n",
      "       [6.1, 2.6, 5.6, 1.4],\n",
      "       [7.7, 3. , 6.1, 2.3],\n",
      "       [6.3, 3.4, 5.6, 2.4],\n",
      "       [6.4, 3.1, 5.5, 1.8],\n",
      "       [6. , 3. , 4.8, 1.8],\n",
      "       [6.9, 3.1, 5.4, 2.1],\n",
      "       [6.7, 3.1, 5.6, 2.4],\n",
      "       [6.9, 3.1, 5.1, 2.3],\n",
      "       [5.8, 2.7, 5.1, 1.9],\n",
      "       [6.8, 3.2, 5.9, 2.3],\n",
      "       [6.7, 3.3, 5.7, 2.5],\n",
      "       [6.7, 3. , 5.2, 2.3],\n",
      "       [6.3, 2.5, 5. , 1.9],\n",
      "       [6.5, 3. , 5.2, 2. ],\n",
      "       [6.2, 3.4, 5.4, 2.3],\n",
      "       [5.9, 3. , 5.1, 1.8]]), 'target': array([0, 0, 0, 0, 0, 0, 0, 0, 0, 0, 0, 0, 0, 0, 0, 0, 0, 0, 0, 0, 0, 0,\n",
      "       0, 0, 0, 0, 0, 0, 0, 0, 0, 0, 0, 0, 0, 0, 0, 0, 0, 0, 0, 0, 0, 0,\n",
      "       0, 0, 0, 0, 0, 0, 1, 1, 1, 1, 1, 1, 1, 1, 1, 1, 1, 1, 1, 1, 1, 1,\n",
      "       1, 1, 1, 1, 1, 1, 1, 1, 1, 1, 1, 1, 1, 1, 1, 1, 1, 1, 1, 1, 1, 1,\n",
      "       1, 1, 1, 1, 1, 1, 1, 1, 1, 1, 1, 1, 2, 2, 2, 2, 2, 2, 2, 2, 2, 2,\n",
      "       2, 2, 2, 2, 2, 2, 2, 2, 2, 2, 2, 2, 2, 2, 2, 2, 2, 2, 2, 2, 2, 2,\n",
      "       2, 2, 2, 2, 2, 2, 2, 2, 2, 2, 2, 2, 2, 2, 2, 2, 2, 2]), 'target_names': array(['setosa', 'versicolor', 'virginica'], dtype='<U10'), 'DESCR': '.. _iris_dataset:\\n\\nIris plants dataset\\n--------------------\\n\\n**Data Set Characteristics:**\\n\\n    :Number of Instances: 150 (50 in each of three classes)\\n    :Number of Attributes: 4 numeric, predictive attributes and the class\\n    :Attribute Information:\\n        - sepal length in cm\\n        - sepal width in cm\\n        - petal length in cm\\n        - petal width in cm\\n        - class:\\n                - Iris-Setosa\\n                - Iris-Versicolour\\n                - Iris-Virginica\\n                \\n    :Summary Statistics:\\n\\n    ============== ==== ==== ======= ===== ====================\\n                    Min  Max   Mean    SD   Class Correlation\\n    ============== ==== ==== ======= ===== ====================\\n    sepal length:   4.3  7.9   5.84   0.83    0.7826\\n    sepal width:    2.0  4.4   3.05   0.43   -0.4194\\n    petal length:   1.0  6.9   3.76   1.76    0.9490  (high!)\\n    petal width:    0.1  2.5   1.20   0.76    0.9565  (high!)\\n    ============== ==== ==== ======= ===== ====================\\n\\n    :Missing Attribute Values: None\\n    :Class Distribution: 33.3% for each of 3 classes.\\n    :Creator: R.A. Fisher\\n    :Donor: Michael Marshall (MARSHALL%PLU@io.arc.nasa.gov)\\n    :Date: July, 1988\\n\\nThe famous Iris database, first used by Sir R.A. Fisher. The dataset is taken\\nfrom Fisher\\'s paper. Note that it\\'s the same as in R, but not as in the UCI\\nMachine Learning Repository, which has two wrong data points.\\n\\nThis is perhaps the best known database to be found in the\\npattern recognition literature.  Fisher\\'s paper is a classic in the field and\\nis referenced frequently to this day.  (See Duda & Hart, for example.)  The\\ndata set contains 3 classes of 50 instances each, where each class refers to a\\ntype of iris plant.  One class is linearly separable from the other 2; the\\nlatter are NOT linearly separable from each other.\\n\\n.. topic:: References\\n\\n   - Fisher, R.A. \"The use of multiple measurements in taxonomic problems\"\\n     Annual Eugenics, 7, Part II, 179-188 (1936); also in \"Contributions to\\n     Mathematical Statistics\" (John Wiley, NY, 1950).\\n   - Duda, R.O., & Hart, P.E. (1973) Pattern Classification and Scene Analysis.\\n     (Q327.D83) John Wiley & Sons.  ISBN 0-471-22361-1.  See page 218.\\n   - Dasarathy, B.V. (1980) \"Nosing Around the Neighborhood: A New System\\n     Structure and Classification Rule for Recognition in Partially Exposed\\n     Environments\".  IEEE Transactions on Pattern Analysis and Machine\\n     Intelligence, Vol. PAMI-2, No. 1, 67-71.\\n   - Gates, G.W. (1972) \"The Reduced Nearest Neighbor Rule\".  IEEE Transactions\\n     on Information Theory, May 1972, 431-433.\\n   - See also: 1988 MLC Proceedings, 54-64.  Cheeseman et al\"s AUTOCLASS II\\n     conceptual clustering system finds 3 classes in the data.\\n   - Many, many more ...', 'feature_names': ['sepal length (cm)', 'sepal width (cm)', 'petal length (cm)', 'petal width (cm)'], 'filename': '/home/mrr0bot/anaconda3/envs/scikit-learn/lib/python3.7/site-packages/sklearn/datasets/data/iris.csv'}\n"
     ]
    }
   ],
   "source": [
    "X = iris.data\n",
    "y = iris.target\n",
    "\n",
    "print(iris)"
   ]
  },
  {
   "cell_type": "code",
   "execution_count": 3,
   "metadata": {},
   "outputs": [],
   "source": [
    "from sklearn.neighbors import KNeighborsClassifier\n",
    "from sklearn import metrics "
   ]
  },
  {
   "cell_type": "markdown",
   "metadata": {},
   "source": [
    "# KNN\n",
    "## And metrics"
   ]
  },
  {
   "cell_type": "code",
   "execution_count": 4,
   "metadata": {},
   "outputs": [
    {
     "name": "stdout",
     "output_type": "stream",
     "text": [
      "1.0\n"
     ]
    }
   ],
   "source": [
    "knn = KNeighborsClassifier(n_neighbors=1)\n",
    "knn.fit(X, y)\n",
    "y_pred = knn.predict(X)\n",
    "\n",
    "print(metrics.accuracy_score(y, y_pred))"
   ]
  },
  {
   "cell_type": "code",
   "execution_count": 5,
   "metadata": {},
   "outputs": [
    {
     "name": "stdout",
     "output_type": "stream",
     "text": [
      "0.9733333333333334\n"
     ]
    }
   ],
   "source": [
    "knn = KNeighborsClassifier(n_neighbors=26)\n",
    "knn.fit(X, y)\n",
    "y_pred = knn.predict(X)\n",
    "\n",
    "print(metrics.accuracy_score(y, y_pred))"
   ]
  },
  {
   "cell_type": "markdown",
   "metadata": {},
   "source": [
    "# Spliting dataset to train/test set"
   ]
  },
  {
   "cell_type": "code",
   "execution_count": 6,
   "metadata": {},
   "outputs": [],
   "source": [
    "from sklearn.model_selection import train_test_split\n",
    "\n",
    "x_train, x_test, y_train, y_test = train_test_split(X, y, test_size=0.4, random_state=2)"
   ]
  },
  {
   "cell_type": "code",
   "execution_count": 7,
   "metadata": {},
   "outputs": [
    {
     "name": "stdout",
     "output_type": "stream",
     "text": [
      "0.9333333333333333\n"
     ]
    }
   ],
   "source": [
    "knn.fit(x_train, y_train)\n",
    "y_pred = knn.predict(x_test)\n",
    "\n",
    "print(metrics.accuracy_score(y_pred, y_test))"
   ]
  },
  {
   "cell_type": "code",
   "execution_count": 8,
   "metadata": {},
   "outputs": [],
   "source": [
    "scores = []\n",
    "\n",
    "for i in range(1, 26):\n",
    "    knn = KNeighborsClassifier(n_neighbors = i)\n",
    "    knn.fit(x_train, y_train)\n",
    "    y_pred = knn.predict(x_test)\n",
    "    scores.append(metrics.accuracy_score(y_pred, y_test))"
   ]
  },
  {
   "cell_type": "code",
   "execution_count": 9,
   "metadata": {},
   "outputs": [
    {
     "data": {
      "text/plain": [
       "[<matplotlib.lines.Line2D at 0x7f1476e66e90>]"
      ]
     },
     "execution_count": 9,
     "metadata": {},
     "output_type": "execute_result"
    },
    {
     "data": {
      "image/png": "[encoded data removed]",
      "text/plain": [
       "<Figure size 432x288 with 1 Axes>"
      ]
     },
     "metadata": {
      "needs_background": "light"
     },
     "output_type": "display_data"
    }
   ],
   "source": [
    "import matplotlib.pyplot as plt\n",
    "\n",
    "%matplotlib inline\n",
    "plt.plot(range(1,26), scores)\n"
   ]
  },
  {
   "cell_type": "markdown",
   "metadata": {},
   "source": [
    "# Digits recognition"
   ]
  },
  {
   "cell_type": "code",
   "execution_count": 10,
   "metadata": {},
   "outputs": [
    {
     "data": {
      "text/plain": [
       "0.9786839666357738"
      ]
     },
     "execution_count": 10,
     "metadata": {},
     "output_type": "execute_result"
    }
   ],
   "source": [
    "import matplotlib.pyplot as plt\n",
    "import numpy\n",
    "from sklearn import metrics\n",
    "from sklearn.datasets import load_digits\n",
    "from sklearn import svm\n",
    "from sklearn.model_selection import train_test_split\n",
    "digits = load_digits()\n",
    "\n",
    "clf = svm.SVC(gamma=0.001, C=100)\n",
    "X = digits.data\n",
    "y = digits.target\n",
    "X_train, X_test, y_train, y_test = train_test_split(X, y, test_size=0.6, random_state=2)\n",
    "clf.fit(X_train, y_train)\n",
    "pred = clf.predict(X_test)\n",
    "\n",
    "metrics.accuracy_score(y_test, pred)"
   ]
  },
  {
   "cell_type": "code",
   "execution_count": 85,
   "metadata": {},
   "outputs": [
    {
     "name": "stdout",
     "output_type": "stream",
     "text": [
      "['WIZZ AIR', 'WIZZ AIR', 'FLYBE LTD', 'FLYBE LTD', 'BMI REGIONAL', 'FLYBE LTD', 'LOGANAIR LTD', 'ICELANDAIR', 'EASTERN AIRWAYS', 'FLYBE LTD', 'LOGANAIR LTD', 'EASTERN AIRWAYS', 'FLYBE LTD', 'LOGANAIR LTD', 'FLYBE LTD', 'EASYJET AIRLINE COMPANY LTD', 'EASYJET UK LTD', 'BRITISH AIRWAYS PLC', 'FLYBE LTD', 'FLYBE LTD', 'EASYJET AIRLINE COMPANY LTD', 'EASYJET SWITZERLAND', 'EASYJET UK LTD', 'LOGANAIR LTD', 'FLYBE LTD', 'EASTERN AIRWAYS', 'FLYBE LTD', 'BMI REGIONAL', 'FLYBE LTD', 'LOGANAIR LTD', 'EASTERN AIRWAYS', 'FLYBE LTD', 'LOGANAIR LTD', 'FLYBE LTD', 'FLYBE LTD', 'FLYBE LTD', 'FLYBE LTD', 'LOGANAIR LTD', 'FLYBE LTD', 'LOGANAIR LTD', 'SAS', 'BMI REGIONAL', 'FLYBE LTD', 'AIR FRANCE', 'LUFTHANSA', 'FLUGFELAG ISLANDS(AIR ICELAND)', 'ICELANDAIR', 'AER LINGUS', 'KLM', 'KLM CITYHOPPER', 'WIDEROE FLYVESELSKAP A/S', 'EASTERN AIRWAYS', 'BMI REGIONAL', 'SAS', 'SAS', 'WIDEROE FLYVESELSKAP A/S', 'RYANAIR', 'RYANAIR', 'TUI AIRWAYS LTD', 'EASYJET SWITZERLAND', 'FLYBE LTD', 'BRITISH AIRWAYS PLC', 'FLYBE LTD', 'FLYBE LTD', 'FLYBE LTD', 'FLYBE LTD', 'FLYBE LTD', 'FLYBE LTD', 'FLYBE LTD', 'SAXONAIR CHARTER LTD', 'FLYBE LTD', 'FLYBE LTD', 'FLYBE LTD', 'FLYBE LTD', 'FLYBE LTD', 'FLYBE LTD', 'AER LINGUS', 'BRITISH AIRWAYS PLC', 'FLYBE LTD', 'FLYBE LTD', 'SAXONAIR CHARTER LTD', 'FLYBE LTD', 'FLYBE LTD', 'FLYBE LTD', 'FLYBE LTD', 'TAG AVIATION (UK) LTD', 'FAI FLIGHT- AMBULANCE SERVICE', 'NETJETS TRANSPORTES AEREOS', 'FLYBE LTD', 'FLUGFELAG ISLANDS(AIR ICELAND)', 'FLYBE LTD', 'FLYBE LTD', 'KLM', 'TAG AVIATION (UK) LTD', 'AIR CM GLOBAL LTD', 'AIR CM GLOBAL LTD', 'TUI AIRWAYS LTD', 'THOMAS COOK AIRLINES LTD', 'EASYJET UK LTD', 'WIZZ AIR', 'RYANAIR', 'EASYJET AIRLINE COMPANY LTD', 'EASYJET UK LTD', 'RYANAIR', 'RYANAIR', 'RYANAIR', 'EASYJET AIRLINE COMPANY LTD', 'EASYJET UK LTD', 'FLYBE LTD', 'JET2.COM LTD', 'EASYJET AIRLINE COMPANY LTD', 'EASYJET UK LTD', 'EASYJET AIRLINE COMPANY LTD', 'EASYJET UK LTD', 'FLYBE LTD', 'VISTAJET LTD MALTA', 'EASYJET AIRLINE COMPANY LTD', 'EASYJET UK LTD', 'RYANAIR', 'EASYJET UK LTD', 'EASYJET AIRLINE COMPANY LTD', 'EASYJET UK LTD', 'EASYJET AIRLINE COMPANY LTD', 'EASYJET UK LTD', 'BRITISH AIRWAYS PLC', 'EASYJET AIRLINE COMPANY LTD', 'EASYJET UK LTD', 'EASYJET AIRLINE COMPANY LTD', 'EASYJET UK LTD', 'RYANAIR', 'EASYJET AIRLINE COMPANY LTD', 'EASYJET UK LTD', 'RYANAIR', 'EASYJET AIRLINE COMPANY LTD', 'EASYJET UK LTD', 'NORWEGIAN AIR INTERNATIONAL', 'EASYJET UK LTD', 'JET2.COM LTD', 'EUROPE AIRPOST', 'EASYJET AIRLINE COMPANY LTD', 'EASYJET UK LTD', 'EASYJET AIRLINE COMPANY LTD', 'EASYJET UK LTD', 'EUROPE AIRPOST', 'RYANAIR', 'EASYJET AIRLINE COMPANY LTD', 'EASYJET UK LTD', 'RYANAIR', 'EASYJET UK LTD', 'JET2.COM LTD', 'RYANAIR', 'EASYJET AIRLINE COMPANY LTD', 'EASYJET UK LTD', 'EASYJET AIRLINE COMPANY LTD', 'EASYJET UK LTD', 'JET2.COM LTD', 'EASYJET AIRLINE COMPANY LTD', 'EASYJET UK LTD', 'JET2.COM LTD', 'RYANAIR', 'EASYJET AIRLINE COMPANY LTD', 'EASYJET UK LTD', 'RYANAIR', 'TOYO AVIATION', 'EASYJET AIRLINE COMPANY LTD', 'EASYJET UK LTD', 'JET2.COM LTD', 'RYANAIR', 'THOMAS COOK AIRLINES LTD', 'EASYJET UK LTD', 'JET2.COM LTD', 'JET2.COM LTD', 'THOMAS COOK AIRLINES LTD', 'JET2.COM LTD', 'RYANAIR', 'THOMAS COOK AIRLINES LTD', 'THOMAS COOK AIRLINES LTD', 'EASYJET AIRLINE COMPANY LTD', 'EASYJET UK LTD', 'TUI AIRWAYS LTD', 'THOMAS COOK AIRLINES LTD', 'TUI AIRWAYS LTD', 'TUI AIRWAYS LTD', 'TUI AIRWAYS LTD', 'TUI AIRWAYS LTD', 'TUI AIRWAYS LTD', 'RYANAIR', 'TUI AIRWAYS LTD', 'CSA CZECH AIRLINES', 'JET2.COM LTD', 'RYANAIR', 'WIZZ AIR', 'RYANAIR', 'RYANAIR', 'RYANAIR', 'RYANAIR', 'JET2.COM LTD', 'RYANAIR', 'WIZZ AIR', 'RYANAIR', 'LUFTHANSA', 'WIZZ AIR', 'RYANAIR', 'WIZZ AIR', 'BLUE AIR TRANSPORT AERIAN', 'WIZZ AIR', 'BLUE AIR TRANSPORT AERIAN', 'WIZZ AIR', 'RYANAIR', 'TURKMENISTAN AIRLINES', 'TUI AIRWAYS LTD', 'TUI AIRWAYS LTD', 'TUI AIRWAYS LTD', 'AIR INDIA', 'TURKMENISTAN AIRLINES', 'AIR INDIA', 'TUI AIRWAYS LTD', 'PAKISTAN INTL AIRLINES', 'QATAR AIRWAYS', 'ETIHAD AIRWAYS', 'EMIRATES', 'THOMAS COOK AIRLINES LTD', 'TUI AIRWAYS LTD', 'THOMAS COOK AIRLINES LTD', 'AIR ARABIA MAROC', 'TUI AIRWAYS LTD', 'TUI AIRWAYS LTD', 'FLYBE LTD', 'FLYBE LTD', 'EASYJET AIRLINE COMPANY LTD', 'EASYJET UK LTD', 'FLYBE LTD', 'FLYBE LTD', 'JET2.COM LTD', 'ENTER AIR', 'BMI REGIONAL', 'FLYBE LTD', 'RYANAIR', 'TUI AIRWAYS LTD', 'BMI REGIONAL', 'FLYBE LTD', 'TUI AIRWAYS LTD', 'FLYBE LTD', 'RYANAIR', 'FLYBE LTD', 'JET2.COM LTD', 'FLYBE LTD', 'EASYJET UK LTD', 'FLYBE LTD', 'JET2.COM LTD', 'THOMAS COOK AIRLINES LTD', 'TUI AIRWAYS LTD', 'FLYBE LTD', 'FLYBE LTD', 'FLYBE LTD', 'FLYBE LTD', 'BLUE AIR TRANSPORT AERIAN', 'EASYJET AIRLINE COMPANY LTD', 'FLYBE LTD', 'FLYBE LTD', 'TUI AIRWAYS LTD', 'RYANAIR', 'EMIRATES', 'FLYBE LTD', 'JET2.COM LTD', 'RYANAIR', 'TUI AIRWAYS LTD', 'FLYBE LTD', 'FLYBE LTD', 'FLYBE LTD', 'THOMAS COOK AIRLINES LTD', 'BMI REGIONAL', 'AUSTRIAN AIRLINES', 'TUI AIRWAYS LTD', 'TUI AIRWAYS LTD', 'EUROWINGS LUFTVERKEHRS', 'JET2.COM LTD', 'TUI AIRWAYS LTD', 'EUROWINGS LUFTVERKEHRS', 'BRUSSELS AIRLINES', 'BLUE AIR TRANSPORT AERIAN', 'JET2.COM LTD', 'TUI AIRWAYS LTD', 'CITY JET', 'SAS', 'ENTER AIR', 'TUI AIRWAYS LTD', 'FLYBE LTD', 'FLYBE LTD', 'TITAN AIRWAYS LTD', 'TUI AIRWAYS LTD', 'TUI AIRWAYS LTD', 'JET2.COM LTD', 'ADRIA AIRWAYS', 'EASYJET AIRLINE COMPANY LTD', 'JET2.COM LTD', 'RYANAIR', 'THOMAS COOK AIRLINES LTD', 'FLYBE LTD', 'FLYBE LTD', 'AIR FRANCE', 'EASYJET AIRLINE COMPANY LTD', 'EASYJET UK LTD', 'ENTER AIR', 'FLYBE LTD', 'VUELING AIRLINES', 'FLYBE LTD', 'TUI AIRWAYS LTD', 'FLYBE LTD', 'EUROWINGS LUFTVERKEHRS', 'FLYBE LTD', 'LUFTHANSA', 'GERMANIA FLUGGESELLSCHAFT', 'TUI AIRWAYS LTD', 'FLYBE LTD', 'FLYBE LTD', 'CITY AIRLINE', 'LUFTHANSA', 'AIRTANKER SERVICES LTD', 'FLYBE LTD', 'ICELANDAIR', 'FLYBE LTD', 'STOBART AIR', 'AER LINGUS', 'AIR ARABIA MAROC', 'CITY JET', 'FLYBE LTD', 'RYANAIR', 'STOBART AIR', 'FLYBE LTD', 'STOBART AIR', 'FLYBE LTD', 'RYANAIR', 'BLUE AIR TRANSPORT AERIAN', 'EASYJET AIRLINE COMPANY LTD', 'JET2.COM LTD', 'JET2.COM LTD', 'TUI AIRWAYS LTD', 'CELLO AVIATION LTD', 'RYANAIR', 'TUI AIRWAYS LTD', 'RYANAIR', 'EASYJET UK LTD', 'FLYBE LTD', 'KLM', 'JET2.COM LTD', 'RYANAIR', 'JET2.COM LTD', 'TUI AIRWAYS LTD', 'FLYBE LTD', 'JET2.COM LTD', 'RYANAIR', 'TUI AIRWAYS LTD', 'RYANAIR', 'VUELING AIRLINES', 'RYANAIR', 'FLYBE LTD', 'EASYJET UK LTD', 'IBERIA EXPRESS', 'RYANAIR', 'CELLO AVIATION LTD', 'JET2.COM LTD', 'RYANAIR', 'TUI AIRWAYS LTD', 'TUI AIRWAYS LTD', 'VUELING AIRLINES', 'RYANAIR', 'JET2.COM LTD', 'FLYBE LTD', 'JET2.COM LTD', 'RYANAIR', 'THOMAS COOK AIRLINES LTD', 'TUI AIRWAYS LTD', 'JET2.COM LTD', 'RYANAIR', 'THOMAS COOK AIRLINES LTD', 'TUI AIRWAYS LTD', 'JET2.COM LTD', 'RYANAIR', 'TUI AIRWAYS LTD', 'EASYJET UK LTD', 'JET2.COM LTD', 'RYANAIR', 'THOMAS COOK AIRLINES LTD', 'TUI AIRWAYS LTD', 'GERMANIA FLUGGESELLSCHAFT', 'TUI AIRWAYS LTD', 'BMI REGIONAL', 'CITY JET', 'JET2.COM LTD', 'SAS', 'EASYJET AIRLINE COMPANY LTD', 'EASYJET SWITZERLAND', 'EASYJET UK LTD', 'FLYBE LTD', 'JET2.COM LTD', 'THOMAS COOK AIRLINES LTD', 'TUI AIRWAYS LTD', 'SWISS AIRLINES', 'JET2.COM LTD', 'THY TURKISH AIRLINES', 'TUI AIRWAYS LTD', 'RYANAIR', 'ENTER AIR', 'ENTER AIR', 'BMI REGIONAL', 'EASTERN AIRWAYS', 'EASYJET UK LTD', 'TUI AIRWAYS LTD', 'JOTA AVIATION LTD', 'TITAN AIRWAYS LTD', 'JOTA AVIATION LTD', 'RYANAIR', 'ENTER AIR', 'ENTER AIR', 'TITAN AIRWAYS LTD', 'TUI AIRWAYS LTD', 'TUI AIRWAYS LTD', 'DUCAIR', 'RYANAIR', 'RYANAIR', 'RYANAIR', 'RYANAIR', 'TUI AIRWAYS LTD', 'TUI AIRWAYS LTD', 'RYANAIR', 'TUI AIRWAYS LTD', 'EASYJET AIRLINE COMPANY LTD', 'EASYJET SWITZERLAND', 'EASYJET UK LTD', 'TUI AIRWAYS LTD', 'TUI AIRWAYS LTD', 'TUI AIRWAYS LTD', 'EASYJET UK LTD', 'ENTER AIR', 'RYANAIR', 'EASYJET AIRLINE COMPANY LTD', 'EASYJET UK LTD', 'RYANAIR', 'RYANAIR', 'RYANAIR', 'WIZZ AIR', 'EASYJET AIRLINE COMPANY LTD', 'EASYJET UK LTD', 'RYANAIR', 'RYANAIR', 'ENTER AIR', 'RYANAIR', 'RYANAIR', 'RYANAIR', 'RYANAIR', 'RYANAIR', 'THOMAS COOK AIRLINES LTD', 'TUI AIRWAYS LTD', 'TUI AIRWAYS LTD', 'BMI REGIONAL', 'JOTA AVIATION LTD', 'EASYJET AIRLINE COMPANY LTD', 'EASYJET UK LTD', 'BMI REGIONAL', 'EASYJET AIRLINE COMPANY LTD', 'RYANAIR', 'TUI AIRWAYS LTD', 'BMI REGIONAL', 'BMI REGIONAL', 'EASYJET AIRLINE COMPANY LTD', 'BMI REGIONAL', 'EASYJET AIRLINE COMPANY LTD', 'EASYJET UK LTD', 'FLYBE LTD', 'BMI REGIONAL', 'EASYJET AIRLINE COMPANY LTD', 'EASYJET UK LTD', 'FLYBE LTD', 'RYANAIR', 'AURIGNY AIR SERVICES', 'BLUE ISLANDS LIMITED', 'BMI REGIONAL', 'EASTERN AIRWAYS', 'EASYJET AIRLINE COMPANY LTD', 'EASYJET UK LTD', 'EASYJET AIRLINE COMPANY LTD', 'EASYJET UK LTD', 'BLUE ISLANDS LIMITED', 'FLYBE LTD', 'BMI REGIONAL', 'EASYJET AIRLINE COMPANY LTD', 'TUI AIRWAYS LTD', 'EASYJET UK LTD', 'TUI AIRWAYS LTD', 'BMI REGIONAL', 'RYANAIR', 'TITAN AIRWAYS LTD', 'BMI REGIONAL', 'AURIGNY AIR SERVICES', 'BMI REGIONAL', 'EASTERN AIRWAYS', 'TUI AIRWAYS LTD', 'BMI REGIONAL', 'EASYJET AIRLINE COMPANY LTD', 'EASYJET UK LTD', 'FLYBE LTD', 'TUI AIRWAYS LTD', 'EASTERN AIRWAYS', 'EASYJET UK LTD', 'JOTA AVIATION LTD', 'AUSTRIAN AIRLINES', 'EASYJET AIRLINE COMPANY LTD', 'EASYJET UK LTD', 'TUI AIRWAYS LTD', 'EASYJET AIRLINE COMPANY LTD', 'EASYJET UK LTD', 'TUI AIRWAYS LTD', 'EASYJET AIRLINE COMPANY LTD', 'EASYJET UK LTD', 'BMI REGIONAL', 'ENTER AIR', 'EASYJET UK LTD', 'EASYJET AIRLINE COMPANY LTD', 'EASYJET UK LTD', 'EASYJET AIRLINE COMPANY LTD', 'EASYJET UK LTD', 'ENTER AIR', 'EASYJET AIRLINE COMPANY LTD', 'EASYJET UK LTD', 'EASYJET AIRLINE COMPANY LTD', 'EASYJET UK LTD', 'ENTER AIR', 'TUI AIRWAYS LTD', 'CARPATAIR', 'CARPATAIR', 'EASYJET AIRLINE COMPANY LTD', 'EASYJET UK LTD', 'RYANAIR', 'EASYJET AIRLINE COMPANY LTD', 'EASYJET UK LTD', 'TUI AIRWAYS LTD', 'AERO4M', 'EASYJET UK LTD', 'BMI REGIONAL', 'EASYJET AIRLINE COMPANY LTD', 'EASYJET UK LTD', 'ENTER AIR', 'BMI REGIONAL', 'EASTERN AIRWAYS', 'EASYJET AIRLINE COMPANY LTD', 'EASYJET UK LTD', 'EASYJET AIRLINE COMPANY LTD', 'EASYJET UK LTD', 'RYANAIR', 'BMI REGIONAL', 'JOTA AVIATION LTD', 'BMI REGIONAL', 'BMI REGIONAL', 'JOTA AVIATION LTD', 'BMI REGIONAL', 'ENTER AIR', 'ENTER AIR', 'BMI REGIONAL', 'EASYJET AIRLINE COMPANY LTD', 'EASYJET AIRLINE COMPANY LTD', 'EASYJET UK LTD', 'EASYJET AIRLINE COMPANY LTD', 'EASYJET UK LTD', 'EASYJET AIRLINE COMPANY LTD', 'EASYJET UK LTD', 'RYANAIR', 'AER LINGUS', 'STOBART AIR', 'AER LINGUS', 'RYANAIR', 'STOBART AIR', 'BMI REGIONAL', 'BMI REGIONAL', 'EASYJET UK LTD', 'RYANAIR', 'BMI REGIONAL', 'EASYJET UK LTD', 'EASYJET AIRLINE COMPANY LTD', 'EASYJET UK LTD', 'EASYJET AIRLINE COMPANY LTD', 'EASYJET UK LTD', 'EASYJET AIRLINE COMPANY LTD', 'EASYJET UK LTD', 'TUI AIRWAYS LTD', 'EASYJET AIRLINE COMPANY LTD', 'EASYJET UK LTD', 'RYANAIR', 'TUI AIRWAYS LTD', 'RYANAIR', 'EASYJET AIRLINE COMPANY LTD', 'EASYJET UK LTD', 'KLM', 'ENTER AIR', 'TITAN AIRWAYS LTD', 'SAS', 'EASYJET AIRLINE COMPANY LTD', 'EASYJET UK LTD', 'RYANAIR', 'EASYJET AIRLINE COMPANY LTD', 'EASYJET UK LTD', 'EASYJET AIRLINE COMPANY LTD', 'EASYJET UK LTD', 'EASYJET AIRLINE COMPANY LTD', 'EASYJET UK LTD', 'EASYJET AIRLINE COMPANY LTD', 'EASYJET UK LTD', 'RYANAIR', 'EASYJET AIRLINE COMPANY LTD', 'EASYJET UK LTD', 'RYANAIR', 'EASYJET AIRLINE COMPANY LTD', 'EASYJET UK LTD', 'EASYJET UK LTD', 'FLYBE LTD', 'EASYJET AIRLINE COMPANY LTD', 'EASYJET UK LTD', 'EASYJET AIRLINE COMPANY LTD', 'EASYJET UK LTD', 'RYANAIR', 'TUI AIRWAYS LTD', 'EASYJET AIRLINE COMPANY LTD', 'EASYJET UK LTD', 'EASYJET AIRLINE COMPANY LTD', 'EASYJET UK LTD', 'FLYBE LTD', 'EASYJET UK LTD', 'RYANAIR', 'RYANAIR', 'EASYJET AIRLINE COMPANY LTD', 'EASYJET UK LTD', 'RYANAIR', 'THOMAS COOK AIRLINES LTD', 'TUI AIRWAYS LTD', 'EASYJET AIRLINE COMPANY LTD', 'EASYJET UK LTD', 'THOMAS COOK AIRLINES LTD', 'TUI AIRWAYS LTD', 'EASYJET AIRLINE COMPANY LTD', 'EASYJET UK LTD', 'RYANAIR', 'TUI AIRWAYS LTD', 'EASYJET AIRLINE COMPANY LTD', 'EASYJET UK LTD', 'RYANAIR', 'THOMAS COOK AIRLINES LTD', 'TUI AIRWAYS LTD', 'BMI REGIONAL', 'EASYJET UK LTD', 'EASYJET AIRLINE COMPANY LTD', 'EASYJET UK LTD', 'EASYJET AIRLINE COMPANY LTD', 'EASYJET UK LTD', 'EASYJET AIRLINE COMPANY LTD', 'EASYJET UK LTD', 'THOMAS COOK AIRLINES LTD', 'TUI AIRWAYS LTD', 'TUI AIRWAYS LTD', 'TUI AIRWAYS LTD', 'QATAR AIRWAYS', 'EASTERN AIRWAYS', 'EASTERN AIRWAYS', 'FLYBE LTD', 'EASTERN AIRWAYS', 'EASTERN AIRWAYS', 'EASYJET AIRLINE COMPANY LTD', 'EASTERN AIRWAYS', 'FLYBE LTD', 'FLYBE LTD', 'FLYBE LTD', 'FLYBE LTD', 'EASTERN AIRWAYS', 'CELLO AVIATION LTD', 'EASTERN AIRWAYS', 'JOTA AVIATION LTD', 'JOTA AVIATION LTD', 'JOTA AVIATION LTD', 'BMI REGIONAL', 'EASTERN AIRWAYS', 'EASTERN AIRWAYS', 'FLYBE LTD', 'AURIGNY AIR SERVICES', 'AERO4M', 'PAN EUROPEAN AIR SERVICE', 'AERO4M', 'FLYBE LTD', 'BLUE ISLANDS LIMITED', 'BLUE ISLANDS LIMITED', 'THOMAS COOK BELGIUM', 'EASYJET UK LTD', 'SIAVIA', 'EASYJET UK LTD', 'FLYBE LTD', 'BMI REGIONAL', 'FLYBE LTD', 'ENTER AIR', 'TITAN AIRWAYS LTD', 'FLYBE LTD', 'STOBART AIR', 'FLYBE LTD', 'FLYBE LTD', 'FLYBE LTD', 'FLYBE LTD', 'KLM', 'FLYBE LTD', 'TUI AIRWAYS LTD', 'VUELING AIRLINES', 'TUI AIRWAYS LTD', 'VUELING AIRLINES', 'TUI AIRWAYS LTD', 'TUI AIRWAYS LTD', 'RYANAIR', 'TUI AIRWAYS LTD', 'FLYBE LTD', 'TUI AIRWAYS LTD', 'WIZZ AIR', 'WIZZ AIR', 'WIZZ AIR', 'WIZZ AIR', 'WIZZ AIR', 'WIZZ AIR', 'WIZZ AIR', 'WIZZ AIR', 'WIZZ AIR', 'WIZZ AIR', 'WIZZ AIR', 'WIZZ AIR', 'WIZZ AIR', 'TITAN AIRWAYS LTD', 'FLYBE LTD', 'EASTERN AIRWAYS', 'EASTERN AIRWAYS', 'LOGANAIR LTD', 'FLYBE LTD', 'FREEBIRD AIRLINES', 'SIAVIA', 'TUI AIRWAYS LTD', 'FLYBE LTD', 'FLYBE LTD', 'EASTERN AIRWAYS', 'FLYBE LTD', 'TUI AIRWAYS LTD', 'FLYBE LTD', 'FLYBE LTD', 'TUI AIRWAYS LTD', 'TUI AIRWAYS LTD', 'TUI AIRWAYS LTD', 'TUI AIRWAYS LTD', 'TUI AIRWAYS LTD', 'FREEBIRD AIRLINES', 'TUI AIRWAYS LTD', 'JET2.COM LTD', 'JET2.COM LTD', 'JET2.COM LTD', 'RYANAIR', 'RYANAIR', 'RYANAIR', 'RYANAIR', 'RYANAIR', 'RYANAIR', 'RYANAIR', 'THOMAS COOK AIRLINES LTD', 'THOMAS COOK AIRLINES LTD', 'FLYBE LTD', 'BMI REGIONAL', 'FLYBE LTD', 'FLYBE LTD', 'AURIGNY AIR SERVICES', 'FLYBE LTD', 'ENTER AIR', 'RYANAIR', 'BMI REGIONAL', 'JET2.COM LTD', 'TUI AIRWAYS LTD', 'BMI REGIONAL', 'ENTER AIR', 'FLYBE LTD', 'TUI AIRWAYS LTD', 'RYANAIR', 'AERO4M', 'AURIGNY AIR SERVICES', 'RYANAIR', 'RYANAIR', 'FAI FLIGHT- AMBULANCE SERVICE', 'TUI AIRWAYS LTD', 'RYANAIR', 'RYANAIR', 'RYANAIR', 'RYANAIR', 'RYANAIR', 'FLYBE LTD', 'KLM', 'JET2.COM LTD', 'RYANAIR', 'THOMAS COOK AIRLINES LTD', 'JET2.COM LTD', 'TUI AIRWAYS LTD', 'JET2.COM LTD', 'RYANAIR', 'TUI AIRWAYS LTD', 'JET2.COM LTD', 'RYANAIR', 'JET2.COM LTD', 'JET2.COM LTD', 'JET2.COM LTD', 'RYANAIR', 'TUI AIRWAYS LTD', 'RYANAIR', 'RYANAIR', 'JET2.COM LTD', 'RYANAIR', 'THOMAS COOK AIRLINES LTD', 'TUI AIRWAYS LTD', 'JET2.COM LTD', 'RYANAIR', 'THOMAS COOK AIRLINES LTD', 'TUI AIRWAYS LTD', 'JET2.COM LTD', 'RYANAIR', 'THOMAS COOK AIRLINES LTD', 'TUI AIRWAYS LTD', 'JET2.COM LTD', 'RYANAIR', 'THOMAS COOK AIRLINES LTD', 'TUI AIRWAYS LTD', 'TUI AIRWAYS LTD', 'JET2.COM LTD', 'EASYJET AIRLINE COMPANY LTD', 'EASYJET UK LTD', 'RYANAIR', 'EASYJET AIRLINE COMPANY LTD', 'EASYJET UK LTD', 'RYANAIR', 'RYANAIR', 'JET2.COM LTD', 'RYANAIR', 'RYANAIR', 'RYANAIR', 'RYANAIR', 'EASYJET AIRLINE COMPANY LTD', 'EASYJET UK LTD', 'RYANAIR', 'RYANAIR', 'RYANAIR', 'RYANAIR', 'RYANAIR', 'HAINAN AIRLINES', 'QATAR AIRWAYS', 'ETIHAD AIRWAYS', 'EMIRATES', 'LOGANAIR LTD', 'FLYBE LTD', 'EASYJET AIRLINE COMPANY LTD', 'EASYJET UK LTD', 'LOGANAIR LTD', 'FLYBE LTD', 'JET2.COM LTD', 'BMI REGIONAL', 'EASYJET AIRLINE COMPANY LTD', 'EASYJET UK LTD', 'FLYBE LTD', 'FLYBE LTD', 'FLYBE LTD', 'EASYJET AIRLINE COMPANY LTD', 'EASYJET UK LTD', 'FLYBE LTD', 'LOGANAIR LTD', 'LOGANAIR LTD', 'BRITISH AIRWAYS PLC', 'EASYJET AIRLINE COMPANY LTD', 'EASYJET UK LTD', 'BRITISH AIRWAYS PLC', 'FLYBE LTD', 'BA CITYFLYER LTD', 'FLYBE LTD', 'EASYJET AIRLINE COMPANY LTD', 'EASYJET UK LTD', 'EASYJET AIRLINE COMPANY LTD', 'EASYJET UK LTD', 'RYANAIR', 'RYANAIR', 'FLYBE LTD', 'LOGANAIR LTD', 'FLYBE LTD', 'LOGANAIR LTD', 'FLYBE LTD', 'LOGANAIR LTD', 'LOGANAIR LTD', 'DELTA AIRLINES', 'UNITED AIRLINES', 'NORWEGIAN AIR INTERNATIONAL', 'NORWEGIAN AIR INTERNATIONAL', 'NORWEGIAN AIR INTERNATIONAL', 'AUSTRIAN AIRLINES', 'TUI AIRWAYS LTD', 'BA CITYFLYER LTD', 'JET2.COM LTD', 'EASYJET AIRLINE COMPANY LTD', 'EASYJET UK LTD', 'JET2.COM LTD', 'BRUSSELS AIRLINES', 'RYANAIR', 'EASYJET AIRLINE COMPANY LTD', 'EASYJET UK LTD', 'EASYJET AIRLINE COMPANY LTD', 'EASYJET UK LTD', 'NORWEGIAN AIR INTERNATIONAL', 'RYANAIR', 'SAS', 'ATLANTIC AIRWAYS', 'FINNAIR', 'RYANAIR', 'BA CITYFLYER LTD', 'EASYJET AIRLINE COMPANY LTD', 'EASYJET UK LTD', 'EASYJET AIRLINE COMPANY LTD', 'EASYJET UK LTD', 'JET2.COM LTD', 'RYANAIR', 'RYANAIR', 'RYANAIR', 'RYANAIR', 'AIR FRANCE', 'EASYJET AIRLINE COMPANY LTD', 'EASYJET UK LTD', 'SMARTWINGS', 'TRANSAVIA FRANCE', 'BA CITYFLYER LTD', 'RYANAIR', 'EASYJET AIRLINE COMPANY LTD', 'RYANAIR', 'EASYJET UK LTD', 'EUROWINGS LUFTVERKEHRS', 'EUROWINGS LUFTVERKEHRS', 'LUFTHANSA', 'EASYJET AIRLINE COMPANY LTD', 'EASYJET UK LTD', 'RYANAIR', 'RYANAIR', 'RYANAIR', 'EASYJET AIRLINE COMPANY LTD', 'EASYJET UK LTD', 'EUROWINGS LUFTVERKEHRS', 'LUFTHANSA', 'RYANAIR', 'EASYJET AIRLINE COMPANY LTD', 'EASYJET UK LTD', 'AEGEAN AIRLINES', 'EASYJET AIRLINE COMPANY LTD', 'EASYJET UK LTD', 'ENTER AIR', 'EASYJET AIRLINE COMPANY LTD', 'EASYJET UK LTD', 'WOW AIR', 'FLYBE LTD', 'AER LINGUS', 'AER LINGUS', 'RYANAIR', 'AER LINGUS', 'RYANAIR', 'RYANAIR', 'EASYJET AIRLINE COMPANY LTD', 'EASYJET UK LTD', 'EASYJET UK LTD', 'RYANAIR', 'JET2.COM LTD', 'RYANAIR', 'EASYJET AIRLINE COMPANY LTD', 'EASYJET UK LTD', 'BA CITYFLYER LTD', 'RYANAIR', 'EASYJET AIRLINE COMPANY LTD', 'EASYJET UK LTD', 'KLM', 'RYANAIR', 'NORWEGIAN AIR INTERNATIONAL', 'NORWEGIAN AIR SHUTTLE', 'SAS', 'RYANAIR', 'EASYJET AIRLINE COMPANY LTD', 'EASYJET UK LTD', 'RYANAIR', 'RYANAIR', 'JET2.COM LTD', 'EASYJET AIRLINE COMPANY LTD', 'EASYJET UK LTD', 'JET2.COM LTD', 'RYANAIR', 'RYANAIR', 'VUELING AIRLINES', 'EASYJET AIRLINE COMPANY LTD', 'EASYJET UK LTD', 'EASYJET AIRLINE COMPANY LTD', 'EASYJET UK LTD', 'JET2.COM LTD', 'RYANAIR', 'RYANAIR', 'EASYJET UK LTD', 'RYANAIR', 'RYANAIR', 'JET2.COM LTD', 'RYANAIR', 'TUI AIRWAYS LTD', 'JET2.COM LTD', 'RYANAIR', 'JET2.COM LTD', 'RYANAIR', 'TUI AIRWAYS LTD', 'EASYJET AIRLINE COMPANY LTD', 'EASYJET UK LTD', 'JET2.COM LTD', 'NORWEGIAN AIR INTERNATIONAL', 'RYANAIR', 'TUI AIRWAYS LTD', 'RYANAIR', 'NORWEGIAN AIR SHUTTLE', 'SAS', 'RYANAIR', 'EASYJET AIRLINE COMPANY LTD', 'EASYJET UK LTD', 'EASYJET AIRLINE COMPANY LTD', 'EASYJET UK LTD', 'JET2.COM LTD', 'TUI AIRWAYS LTD', 'EDELWEISS AIR', 'THY TURKISH AIRLINES', 'FLYBE LTD', 'FLYBE LTD', 'FLYBE LTD', 'FLYBE LTD', 'FLYBE LTD', 'FLYBE LTD', 'FLYBE LTD', 'FLYBE LTD', 'JOTA AVIATION LTD', 'FLYBE LTD', 'FLYBE LTD', 'FLYBE LTD', 'FLYBE LTD', 'ENTER AIR', 'FLYBE LTD', 'TUI AIRWAYS LTD', 'AERO4M', 'FLYBE LTD', 'ENTER AIR', 'FLYBE LTD', 'FLYBE LTD', 'FLYBE LTD', 'ENTER AIR', 'FLYBE LTD', 'FLYBE LTD', 'FLYBE LTD', 'TUI AIRWAYS LTD', 'TUI AIRWAYS LTD', 'TUI AIRWAYS LTD', 'FLYBE LTD', 'TUI AIRWAYS LTD', 'AIR TRANSAT', 'TUI AIRWAYS LTD', 'TUI AIRWAYS LTD', 'RYANAIR', 'JET2.COM LTD', 'WIZZ AIR', 'RYANAIR', 'WIZZ AIR', 'WIZZ AIR', 'RYANAIR', 'RYANAIR', 'RYANAIR', 'BLUE AIR TRANSPORT AERIAN', 'EMIRATES', 'THOMAS COOK AIRLINES LTD', 'LOGANAIR LTD', 'FLYBE LTD', 'EASYJET AIRLINE COMPANY LTD', 'EASYJET UK LTD', 'LOGANAIR LTD', 'FLYBE LTD', 'JET2.COM LTD', 'EASYJET AIRLINE COMPANY LTD', 'EASYJET UK LTD', 'FLYBE LTD', 'LOGANAIR LTD', 'FLYBE LTD', 'FLYBE LTD', 'FLYBE LTD', 'FLYBE LTD', 'EASYJET UK LTD', 'LOGANAIR LTD', 'LOGANAIR LTD', 'FLYBE LTD', 'EASYJET AIRLINE COMPANY LTD', 'EASYJET UK LTD', 'LOGANAIR LTD', 'BRITISH AIRWAYS PLC', 'EASYJET AIRLINE COMPANY LTD', 'EASYJET UK LTD', 'BRITISH AIRWAYS PLC', 'BA CITYFLYER LTD', 'EASYJET AIRLINE COMPANY LTD', 'EASYJET UK LTD', 'EASYJET AIRLINE COMPANY LTD', 'EASYJET UK LTD', 'LOGANAIR LTD', 'RYANAIR', 'FLYBE LTD', 'ICELANDAIR', 'LOGANAIR LTD', 'LOGANAIR LTD', 'FLYBE LTD', 'LOGANAIR LTD', 'FLYBE LTD', 'FLYBE LTD', 'FLYBE LTD', 'LOGANAIR LTD', 'LOGANAIR LTD', 'LOGANAIR LTD', 'TUI AIRWAYS LTD', 'TUI AIRWAYS LTD', 'RYANAIR', 'TUI AIRWAYS LTD', 'JET2.COM LTD', 'JET2.COM LTD', 'EASYJET AIRLINE COMPANY LTD', 'EASYJET UK LTD', 'EASYJET AIRLINE COMPANY LTD', 'EASYJET UK LTD', 'RYANAIR', 'EUROWINGS LUFTVERKEHRS', 'LUFTHANSA', 'RYANAIR', 'LUFTHANSA', 'EASYJET UK LTD', 'ICELANDAIR', 'LUFTHANSA', 'AER LINGUS', 'AER LINGUS', 'LOGANAIR LTD', 'AER LINGUS', 'RYANAIR', 'EASYJET AIRLINE COMPANY LTD', 'TUI AIRWAYS LTD', 'EASYJET UK LTD', 'EASYJET AIRLINE COMPANY LTD', 'EASYJET UK LTD', 'KLM', 'KLM CITYHOPPER', 'EASYJET AIRLINE COMPANY LTD', 'EASYJET UK LTD', 'RYANAIR', 'JET2.COM LTD', 'EASYJET AIRLINE COMPANY LTD', 'EASYJET UK LTD', 'JET2.COM LTD', 'RYANAIR', 'TUI AIRWAYS LTD', 'JET2.COM LTD', 'RYANAIR', 'EASYJET AIRLINE COMPANY LTD', 'EASYJET UK LTD', 'JET2.COM LTD', 'RYANAIR', 'RYANAIR', 'JET2.COM LTD', 'RYANAIR', 'THOMAS COOK AIRLINES LTD', 'TUI AIRWAYS LTD', 'JET2.COM LTD', 'THOMAS COOK AIRLINES LTD', 'JET2.COM LTD', 'THOMAS COOK AIRLINES LTD', 'TUI AIRWAYS LTD', 'JET2.COM LTD', 'THOMAS COOK AIRLINES LTD', 'TUI AIRWAYS LTD', 'EASYJET AIRLINE COMPANY LTD', 'EASYJET UK LTD', 'THOMAS COOK AIRLINES LTD', 'EASTERN AIRWAYS', 'EASYJET UK LTD', 'FLYBE LTD', 'EASYJET AIRLINE COMPANY LTD', 'EASYJET UK LTD', 'LOGANAIR LTD', 'EASTERN AIRWAYS', 'EASYJET AIRLINE COMPANY LTD', 'EASYJET UK LTD', 'FLYBE LTD', 'EASYJET AIRLINE COMPANY LTD', 'EASYJET UK LTD', 'BA CITYFLYER LTD', 'FLYBE LTD', 'JOTA AVIATION LTD', 'EASTERN AIRWAYS', 'AER LINGUS', 'FLYBE LTD', 'FLYBE LTD', 'FLYBE LTD', 'BLUE ISLANDS LIMITED', 'FLYBE LTD', 'FLYBE LTD', 'FLYBE LTD', 'FLYBE LTD', 'EASYJET AIRLINE COMPANY LTD', 'EASYJET UK LTD', 'BLUE ISLANDS LIMITED', 'BLUE ISLANDS LIMITED', 'FLYBE LTD', 'EASYJET AIRLINE COMPANY LTD', 'EASYJET UK LTD', 'BRITISH AIRWAYS PLC', 'EASYJET AIRLINE COMPANY LTD', 'EASYJET UK LTD', 'BLUE ISLANDS LIMITED', 'FLYBE LTD', 'BLUE ISLANDS LIMITED', 'FLYBE LTD', 'BLUE ISLANDS LIMITED', 'GERMANIA FLUGGESELLSCHAFT', 'GERMANIA FLUGGESELLSCHAFT', 'GERMANIA FLUGGESELLSCHAFT', 'FLYBE LTD', 'JET2.COM LTD', 'JET2.COM LTD', 'RYANAIR', 'RYANAIR', 'RYANAIR', 'JET2.COM LTD', 'RYANAIR', 'RYANAIR', 'RYANAIR', 'RYANAIR', 'EASTERN AIRWAYS', 'FLYBE LTD', 'ENTER AIR', 'AURIGNY AIR SERVICES', 'FLYBE LTD', 'ENTER AIR', 'BRITISH AIRWAYS PLC', 'MALETH AERO', 'JET2.COM LTD', 'FLYBE LTD', 'FLYBE LTD', 'EASTERN AIRWAYS', 'JET2.COM LTD', 'JET2.COM LTD', 'BRITISH AIRWAYS PLC', 'ENTER AIR', 'JET2.COM LTD', 'JET2.COM LTD', 'JET2.COM LTD', 'FLYBE LTD', 'TITAN AIRWAYS LTD', 'AER LINGUS', 'RYANAIR', 'JET2.COM LTD', 'RYANAIR', 'JET2.COM LTD', 'KLM', 'JET2.COM LTD', 'RYANAIR', 'JET2.COM LTD', 'JET2.COM LTD', 'RYANAIR', 'JET2.COM LTD', 'RYANAIR', 'JET2.COM LTD', 'RYANAIR', 'RYANAIR', 'JET2.COM LTD', 'RYANAIR', 'JET2.COM LTD', 'RYANAIR', 'JET2.COM LTD', 'RYANAIR', 'JET2.COM LTD', 'RYANAIR', 'TUI AIRWAYS LTD', 'JET2.COM LTD', 'MALETH AERO', 'RYANAIR', 'RYANAIR', 'TITAN AIRWAYS LTD', 'WIZZ AIR', 'RYANAIR', 'WIZZ AIR', 'RYANAIR', 'WIZZ AIR', 'WIZZ AIR', 'EASYJET AIRLINE COMPANY LTD', 'EASYJET UK LTD', 'RYANAIR', 'WIZZ AIR', 'RYANAIR', 'RYANAIR', 'WIZZ AIR', 'RYANAIR', 'RYANAIR', 'BLUE AIR TRANSPORT AERIAN', 'BLUE AIR TRANSPORT AERIAN', 'WIZZ AIR', 'BLUE AIR TRANSPORT AERIAN', 'WIZZ AIR', 'BLUE AIR TRANSPORT AERIAN', 'WIZZ AIR', 'RYANAIR', 'TITAN AIRWAYS LTD', 'ALMASRIA UNIVERSAL AIRLINES', 'RYANAIR', 'FLYBE LTD', 'EASYJET AIRLINE COMPANY LTD', 'EASYJET UK LTD', 'BMI REGIONAL', 'EASTERN AIRWAYS', 'CELLO AVIATION LTD', 'EASTERN AIRWAYS', 'RYANAIR', 'EASYJET AIRLINE COMPANY LTD', 'EASYJET UK LTD', 'FLYBE LTD', 'EASYJET AIRLINE COMPANY LTD', 'EASYJET UK LTD', 'EASYJET UK LTD', 'JOTA AVIATION LTD', 'CITY JET', 'JOTA AVIATION LTD', 'RYANAIR', 'RYANAIR', 'RYANAIR', 'DANISH AIR TRANSPORT', 'RYANAIR', 'FLYBE LTD', 'EASYJET UK LTD', 'JOTA AVIATION LTD', 'JOTA AVIATION LTD', 'EASYJET AIRLINE COMPANY LTD', 'EASYJET UK LTD', 'EASYJET AIRLINE COMPANY LTD', 'EASYJET UK LTD', 'RYANAIR', 'DANISH AIR TRANSPORT', 'EASYJET AIRLINE COMPANY LTD', 'EASYJET UK LTD', 'EASYJET AIRLINE COMPANY LTD', 'EASYJET UK LTD', 'RYANAIR', 'EASYJET AIRLINE COMPANY LTD', 'EASYJET UK LTD', 'EASYJET UK LTD', 'EASYJET AIRLINE COMPANY LTD', 'EASYJET UK LTD', 'FLYBE LTD', 'RYANAIR', 'RYANAIR', 'RYANAIR', 'RYANAIR', 'BLUE AIR TRANSPORT AERIAN', 'RYANAIR', 'BLUE AIR TRANSPORT AERIAN', 'EASYJET AIRLINE COMPANY LTD', 'EASYJET UK LTD', 'RYANAIR', 'EASYJET AIRLINE COMPANY LTD', 'EASYJET UK LTD', 'WIDEROE FLYVESELSKAP A/S', 'EASYJET AIRLINE COMPANY LTD', 'EASYJET UK LTD', 'RYANAIR', 'EASYJET AIRLINE COMPANY LTD', 'RYANAIR', 'BLUE AIR TRANSPORT AERIAN', 'EASYJET AIRLINE COMPANY LTD', 'EASYJET UK LTD', 'RYANAIR', 'EASYJET AIRLINE COMPANY LTD', 'EASYJET UK LTD', 'RYANAIR', 'RYANAIR', 'EASYJET AIRLINE COMPANY LTD', 'EASYJET UK LTD', 'BLUE AIR TRANSPORT AERIAN', 'EASYJET AIRLINE COMPANY LTD', 'EASYJET UK LTD', 'RYANAIR', 'RYANAIR', 'EASYJET AIRLINE COMPANY LTD', 'EASYJET UK LTD', 'EASYJET AIRLINE COMPANY LTD', 'EASYJET UK LTD', 'RYANAIR', 'EASYJET AIRLINE COMPANY LTD', 'EASYJET UK LTD', 'RYANAIR', 'RYANAIR', 'RYANAIR', 'EASYJET AIRLINE COMPANY LTD', 'EASYJET UK LTD', 'TUI AIRWAYS LTD', 'THOMAS COOK AIRLINES LTD', 'TUI AIRWAYS LTD', 'WEST JET AIRLINES', 'FAI FLIGHT- AMBULANCE SERVICE', 'NORWEGIAN AIR SHUTTLE', 'AIR TRANSAT', 'WEST JET AIRLINES', 'AIR TRANSAT', 'BRITISH AIRWAYS PLC', 'VIRGIN ATLANTIC AIRWAYS LTD', 'BRITISH AIRWAYS PLC', 'THOMAS COOK AIRLINES LTD', 'THOMAS COOK AIRLINES LTD', 'TUI AIRWAYS LTD', 'VIRGIN ATLANTIC AIRWAYS LTD', 'VIRGIN ATLANTIC AIRWAYS LTD', 'BRITISH AIRWAYS PLC', 'BRITISH AIRWAYS PLC', 'VIRGIN ATLANTIC AIRWAYS LTD', 'BRITISH AIRWAYS PLC', 'TUI AIRWAYS LTD', 'VIRGIN ATLANTIC AIRWAYS LTD', 'BRITISH AIRWAYS PLC', 'TUI AIRWAYS LTD', 'VIRGIN ATLANTIC AIRWAYS LTD', 'BRITISH AIRWAYS PLC', 'BRITISH AIRWAYS PLC', 'VIRGIN ATLANTIC AIRWAYS LTD', 'BRITISH AIRWAYS PLC', 'TUI AIRWAYS LTD', 'BRITISH AIRWAYS PLC', 'VIRGIN ATLANTIC AIRWAYS LTD', 'THOMAS COOK AIRLINES LTD', 'TUI AIRWAYS LTD', 'TUI AIRWAYS LTD', 'TUI AIRWAYS LTD', 'BRITISH AIRWAYS PLC', 'TUI AIRWAYS LTD', 'BRITISH AIRWAYS PLC', 'THOMAS COOK AIRLINES LTD', 'TUI AIRWAYS LTD', 'VIRGIN ATLANTIC AIRWAYS LTD', 'VIRGIN ATLANTIC AIRWAYS LTD', 'TUI AIRWAYS LTD', 'NETJETS TRANSPORTES AEREOS', 'RWANDAIR EXPRESS', 'BRITISH AIRWAYS PLC', 'TITAN AIRWAYS LTD', 'BELAVIA (BELARUSSIAN AIRLINES)', 'EASYJET AIRLINE COMPANY LTD', 'EASYJET UK LTD', 'GERMANIA FLUGGESELLSCHAFT', 'NORWEGIAN AIR INTERNATIONAL', 'TITAN AIRWAYS LTD', 'TUI AIRWAYS LTD', 'ABS JET', 'EASYJET AIRLINE COMPANY LTD', 'EASYJET UK LTD', 'SMARTWINGS', 'AIR BALTIC', 'EASYJET AIRLINE COMPANY LTD', 'EASYJET UK LTD', 'GEORGIAN AIRWAYS', 'ALBA STAR', 'EASYJET AIRLINE COMPANY LTD', 'EASYJET UK LTD', 'ENTER AIR', 'AIR BALTIC', 'EASYJET AIRLINE COMPANY LTD', 'EASYJET UK LTD', 'ENTER AIR', 'EASYJET UK LTD', 'WIZZ AIR', 'AEROFLOT', 'ROSSIYA AIRLINES', 'ABS JET', 'UKRAINE INTERNATIONAL AIRLINES', 'AIR CHINA', 'CHINA EASTERN AIRLINES', 'TIANJIN AIRLINES', 'CATHAY PACIFIC AIRWAYS', 'TUI AIRWAYS LTD', 'NORWEGIAN AIR UK LTD', 'CHINA AIRLINES', 'TUI AIRWAYS LTD', 'TUI AIRWAYS LTD', 'TUI AIRWAYS LTD', 'TUI AIRWAYS LTD', 'BRITISH AIRWAYS PLC', 'BRITISH AIRWAYS PLC', 'TUI AIRWAYS LTD', 'VISTAJET LTD MALTA', 'THOMAS COOK AIRLINES LTD', 'TUI AIRWAYS LTD', 'TITAN AIRWAYS LTD', 'THOMAS COOK AIRLINES LTD', 'TUI AIRWAYS LTD', 'IRAQI AIRWAYS', 'IRAQI AIRWAYS', 'IRAQI AIRWAYS', 'QATAR AIRWAYS', 'EMIRATES', 'EASYJET AIRLINE COMPANY LTD', 'EASYJET UK LTD', 'EASYJET UK LTD', 'BRITISH AIRWAYS PLC', 'EASYJET AIRLINE COMPANY LTD', 'EASYJET UK LTD', 'THOMAS COOK AIRLINES LTD', 'TUI AIRWAYS LTD', 'THOMAS COOK AIRLINES LTD', 'TUI AIRWAYS LTD', 'EASYJET AIRLINE COMPANY LTD', 'EASYJET UK LTD', 'TUI AIRWAYS LTD', 'ROYAL AIR MAROC', 'TAG AVIATION (UK) LTD', 'AIR ARABIA MAROC', 'AIR ARABIA MAROC', 'BRITISH AIRWAYS PLC', 'EASYJET AIRLINE COMPANY LTD', 'EASYJET UK LTD', 'TUI AIRWAYS LTD', 'AIR ARABIA MAROC', 'THOMAS COOK AIRLINES LTD', 'TUI AIRWAYS LTD', 'TUNISAIR', 'NORWEGIAN AIR UK LTD', 'THOMAS COOK AIRLINES LTD', 'BRITISH AIRWAYS PLC', 'THOMAS COOK AIRLINES LTD', 'THOMAS COOK AIRLINES LTD', 'EASYJET AIRLINE COMPANY LTD', 'EASYJET UK LTD', 'EASYJET AIRLINE COMPANY LTD', 'EASYJET UK LTD', 'BMI REGIONAL', 'TUI AIRWAYS LTD', 'BRITISH AIRWAYS PLC', 'EASYJET AIRLINE COMPANY LTD', 'EASYJET UK LTD', 'BRITISH AIRWAYS PLC', 'EASYJET AIRLINE COMPANY LTD', 'EASYJET UK LTD', 'AURIGNY AIR SERVICES', 'EASYJET AIRLINE COMPANY LTD', 'EASYJET UK LTD', 'EASYJET AIRLINE COMPANY LTD', 'EASYJET UK LTD', 'BRITISH AIRWAYS PLC', 'EASYJET AIRLINE COMPANY LTD', 'EASYJET UK LTD', 'EASYJET AIRLINE COMPANY LTD', 'BRITISH AIRWAYS PLC', 'NORWEGIAN AIR SHUTTLE', 'TITAN AIRWAYS LTD', 'BMI REGIONAL', 'EASTERN AIRWAYS', 'EASYJET UK LTD', 'VIRGIN ATLANTIC AIRWAYS LTD', 'FLYBE LTD', 'BMI REGIONAL', 'JOTA AVIATION LTD', 'CELLO AVIATION LTD', 'EASTERN AIRWAYS', 'NORWEGIAN AIR SHUTTLE', 'NORWEGIAN AIR UK LTD', 'NORWEGIAN AIR UK LTD', 'NORWEGIAN AIR SHUTTLE', 'NORWEGIAN AIR UK LTD', 'BRITISH AIRWAYS PLC', 'NORWEGIAN AIR SHUTTLE', 'NORWEGIAN AIR UK LTD', 'BRITISH AIRWAYS PLC', 'NORWEGIAN AIR SHUTTLE', 'NORWEGIAN AIR UK LTD', 'VIRGIN ATLANTIC AIRWAYS LTD', 'NORWEGIAN AIR SHUTTLE', 'NORWEGIAN AIR UK LTD', 'NORWEGIAN AIR SHUTTLE', 'BRITISH AIRWAYS PLC', 'NORWEGIAN AIR SHUTTLE', 'NORWEGIAN AIR UK LTD', 'NORWEGIAN AIR SHUTTLE', 'BRITISH AIRWAYS PLC', 'NORWEGIAN AIR SHUTTLE', 'NORWEGIAN AIR UK LTD', 'BRITISH AIRWAYS PLC', 'NORWEGIAN AIR SHUTTLE', 'NORWEGIAN AIR UK LTD', 'VIRGIN ATLANTIC AIRWAYS LTD', 'NORWEGIAN AIR SHUTTLE', 'BRITISH AIRWAYS PLC', 'NORWEGIAN AIR UK LTD', 'THOMAS COOK AIRLINES LTD', 'TITAN AIRWAYS LTD', 'TITAN AIRWAYS LTD', 'MED-VIEW AIRLINE', 'AUSTRIAN AIRLINES', 'AUSTRIAN AIRLINES', 'BRITISH AIRWAYS PLC', 'EASYJET AIRLINE COMPANY LTD', 'EASYJET UK LTD', 'THOMAS COOK AIRLINES LTD', 'THOMAS COOK AIRLINES LTD', 'TUI AIRWAYS LTD', 'EASYJET AIRLINE COMPANY LTD', 'EASYJET UK LTD', 'TUI AIRWAYS LTD', 'BRITISH AIRWAYS PLC', 'BRITISH AIRWAYS PLC', 'EASYJET AIRLINE COMPANY LTD', 'EASYJET UK LTD', 'NORWEGIAN AIR INTERNATIONAL', 'TUI AIRWAYS LTD', 'ANISEC LUFTFAHT T/AS LEVEL', 'BRITISH AIRWAYS PLC', 'EASYJET AIRLINE COMPANY LTD', 'EASYJET UK LTD', 'LUXAVIATION', 'WOW AIR', 'BRITISH AIRWAYS PLC', 'COBALT', 'EASYJET AIRLINE COMPANY LTD', 'EASYJET UK LTD', 'BRITISH AIRWAYS PLC', 'EASYJET AIRLINE COMPANY LTD', 'EASYJET UK LTD', 'TUI AIRWAYS LTD', 'NORWEGIAN AIR INTERNATIONAL', 'EASYJET UK LTD', 'EASYJET AIRLINE COMPANY LTD', 'EASYJET UK LTD', 'NORWEGIAN AIR INTERNATIONAL', 'ENTER AIR', 'NORWEGIAN AIR INTERNATIONAL', 'EASYJET AIRLINE COMPANY LTD', 'EASYJET UK LTD', 'FINNAIR', 'EASYJET AIRLINE COMPANY LTD', 'EASYJET UK LTD', 'EASYJET UK LTD', 'FINNAIR', 'TUI AIRWAYS LTD', 'TUI AIRWAYS LTD', 'BRITISH AIRWAYS PLC', 'EASYJET UK LTD', 'NORWEGIAN AIR INTERNATIONAL', 'THOMAS COOK AIRLINES LTD', 'BRITISH AIRWAYS PLC', 'EASYJET AIRLINE COMPANY LTD', 'EASYJET UK LTD', 'BRITISH AIRWAYS PLC', 'TITAN AIRWAYS LTD', 'TUI AIRWAYS LTD', 'AER LINGUS', 'BRITISH AIRWAYS PLC', 'BRITISH AIRWAYS PLC', 'EASYJET AIRLINE COMPANY LTD', 'EASYJET UK LTD', 'GERMANIA FLUG', 'GERMANIA FLUGGESELLSCHAFT', 'NORWEGIAN AIR INTERNATIONAL', 'THOMAS COOK AIRLINES LTD', 'THOMAS COOK AIRLINES LTD', 'TITAN AIRWAYS LTD', 'TUI AIRWAYS LTD', 'AER LINGUS', 'BRITISH AIRWAYS PLC', 'BRITISH AIRWAYS PLC', 'EASYJET AIRLINE COMPANY LTD', 'EASYJET UK LTD', 'NORWEGIAN AIR INTERNATIONAL', 'TUI AIRWAYS LTD', 'EASYJET AIRLINE COMPANY LTD', 'EASYJET UK LTD', 'AIR ARABIA MAROC', 'EASYJET AIRLINE COMPANY LTD', 'EASYJET UK LTD', 'EASYJET AIRLINE COMPANY LTD', 'EASYJET UK LTD', 'BRITISH AIRWAYS PLC', 'EASYJET AIRLINE COMPANY LTD', 'EASYJET UK LTD', 'VISTAJET LTD MALTA', 'EASYJET AIRLINE COMPANY LTD', 'EASYJET UK LTD', 'VUELING AIRLINES', 'VUELING AIRLINES', 'EASYJET AIRLINE COMPANY LTD', 'EASYJET UK LTD', 'TUI AIRWAYS LTD', 'EASYJET AIRLINE COMPANY LTD', 'EASYJET UK LTD', 'EASYJET UK LTD', 'EASYJET UK LTD', 'BRITISH AIRWAYS PLC', 'THOMAS COOK AIRLINES LTD', 'BRITISH AIRWAYS PLC', 'BRITISH AIRWAYS PLC', 'EASYJET AIRLINE COMPANY LTD', 'EASYJET UK LTD', 'NORWEGIAN AIR INTERNATIONAL', 'THOMAS COOK AIRLINES LTD', 'TITAN AIRWAYS LTD', 'EASYJET AIRLINE COMPANY LTD', 'EASYJET UK LTD', 'BRITISH AIRWAYS PLC', 'EASYJET AIRLINE COMPANY LTD', 'EASYJET UK LTD', 'GERMANIA FLUGGESELLSCHAFT', 'THOMAS COOK AIRLINES LTD', 'BRITISH AIRWAYS PLC', 'EASYJET AIRLINE COMPANY LTD', 'EASYJET UK LTD', 'EASYJET AIRLINE COMPANY LTD', 'EASYJET UK LTD', 'AEGEAN AIRLINES', 'EASYJET AIRLINE COMPANY LTD', 'EASYJET UK LTD', 'AEGEAN AIRLINES', 'EASYJET AIRLINE COMPANY LTD', 'EASYJET UK LTD', 'EASYJET AIRLINE COMPANY LTD', 'EASYJET UK LTD', 'ICELANDAIR', 'NORWEGIAN AIR INTERNATIONAL', 'TUI AIRWAYS LTD', 'WOW AIR', 'AER LINGUS', 'RYANAIR', 'AER LINGUS', 'BRITISH AIRWAYS PLC', 'RYANAIR', 'RYANAIR', 'RYANAIR', 'EASYJET UK LTD', 'EASYJET AIRLINE COMPANY LTD', 'EASYJET UK LTD', 'RYANAIR', 'SIRIO', 'EASYJET AIRLINE COMPANY LTD', 'EASYJET UK LTD', 'VUELING AIRLINES', 'BRITISH AIRWAYS PLC', 'EASYJET AIRLINE COMPANY LTD', 'EASYJET UK LTD', 'VISTAJET LTD MALTA', 'ALBA STAR', 'EASYJET AIRLINE COMPANY LTD', 'EASYJET UK LTD', 'BRITISH AIRWAYS PLC', 'EASYJET AIRLINE COMPANY LTD', 'EASYJET UK LTD', 'EASYJET AIRLINE COMPANY LTD', 'EASYJET UK LTD', 'EASYJET AIRLINE COMPANY LTD', 'EASYJET UK LTD', 'EASYJET AIRLINE COMPANY LTD', 'EASYJET UK LTD', 'VUELING AIRLINES', 'BRITISH AIRWAYS PLC', 'EASYJET AIRLINE COMPANY LTD', 'EASYJET UK LTD', 'VUELING AIRLINES', 'VUELING AIRLINES', 'BRITISH AIRWAYS PLC', 'BRITISH AIRWAYS PLC', 'EASYJET AIRLINE COMPANY LTD', 'EASYJET UK LTD', 'TITAN AIRWAYS LTD', 'TUI AIRWAYS LTD', 'BRITISH AIRWAYS PLC', 'EASYJET AIRLINE COMPANY LTD', 'EASYJET UK LTD', 'BRITISH AIRWAYS PLC', 'EASYJET AIRLINE COMPANY LTD', 'EASYJET UK LTD', 'TUI AIRWAYS LTD', 'GERMANIA FLUGGESELLSCHAFT', 'EASYJET AIRLINE COMPANY LTD', 'EASYJET UK LTD', 'AIR MALTA', 'BRITISH AIRWAYS PLC', 'EASYJET AIRLINE COMPANY LTD', 'EASYJET UK LTD', 'EASYJET UK LTD', 'TUI AIRWAYS LTD', 'VIRGIN ATLANTIC AIRWAYS LTD', 'BRITISH AIRWAYS PLC', 'EASYJET AIRLINE COMPANY LTD', 'EASYJET UK LTD', 'FAI FLIGHT- AMBULANCE SERVICE', 'GERMANIA FLUGGESELLSCHAFT', 'NORWEGIAN AIR INTERNATIONAL', 'NORWEGIAN AIR SHUTTLE', 'TITAN AIRWAYS LTD', 'TUI AIRWAYS LTD', 'NORWEGIAN AIR INTERNATIONAL', 'NORWEGIAN AIR SHUTTLE', 'NORWEGIAN AIR INTERNATIONAL', 'NORWEGIAN AIR SHUTTLE', 'NORWEGIAN AIR INTERNATIONAL', 'NORWEGIAN AIR INTERNATIONAL', 'BRITISH AIRWAYS PLC', 'EASYJET AIRLINE COMPANY LTD', 'EASYJET UK LTD', 'AIR PORTUGAL', 'EASYJET AIRLINE COMPANY LTD', 'EASYJET UK LTD', 'AIR PORTUGAL', 'BRITISH AIRWAYS PLC', 'EASYJET AIRLINE COMPANY LTD', 'EASYJET UK LTD', 'BRITISH AIRWAYS PLC', 'EASYJET AIRLINE COMPANY LTD', 'EASYJET UK LTD', 'TUI AIRWAYS LTD', 'EASYJET AIRLINE COMPANY LTD', 'EASYJET UK LTD', 'BRITISH AIRWAYS PLC', 'EASYJET AIRLINE COMPANY LTD', 'EASYJET UK LTD', 'NORWEGIAN AIR INTERNATIONAL', 'RYANAIR', 'TUI AIRWAYS LTD', 'TUI AIRWAYS LTD', 'EASYJET AIRLINE COMPANY LTD', 'EASYJET UK LTD', 'VUELING AIRLINES', 'BRITISH AIRWAYS PLC', 'EASYJET AIRLINE COMPANY LTD', 'EASYJET UK LTD', 'NORWEGIAN AIR INTERNATIONAL', 'RYANAIR', 'VUELING AIRLINES', 'VUELING AIRLINES', 'EASYJET UK LTD', 'EASYJET AIRLINE COMPANY LTD', 'EASYJET UK LTD', 'THOMAS COOK AIRLINES LTD', 'THOMAS COOK AIRLINES LTD', 'AIR EUROPA', 'AIR X CHARTER', 'EASYJET AIRLINE COMPANY LTD', 'EASYJET UK LTD', 'IBERIA EXPRESS', 'NORWEGIAN AIR INTERNATIONAL', 'EASYJET UK LTD', 'BRITISH AIRWAYS PLC', 'EASYJET AIRLINE COMPANY LTD', 'EASYJET UK LTD', 'NORWEGIAN AIR INTERNATIONAL', 'RYANAIR', 'TITAN AIRWAYS LTD', 'TUI AIRWAYS LTD', 'EASYJET AIRLINE COMPANY LTD', 'EASYJET UK LTD', 'BRITISH AIRWAYS PLC', 'EASYJET AIRLINE COMPANY LTD', 'EASYJET UK LTD', 'NORWEGIAN AIR INTERNATIONAL', 'THOMAS COOK AIRLINES LTD', 'VUELING AIRLINES', 'BRITISH AIRWAYS PLC', 'EASYJET AIRLINE COMPANY LTD', 'EASYJET UK LTD', 'BRITISH AIRWAYS PLC', 'EASYJET AIRLINE COMPANY LTD', 'EASYJET UK LTD', 'AIR NOSTRUM', 'BRITISH AIRWAYS PLC', 'EASYJET AIRLINE COMPANY LTD', 'EASYJET UK LTD', 'NORWEGIAN AIR INTERNATIONAL', 'THOMAS COOK AIRLINES LTD', 'TUI AIRWAYS LTD', 'BRITISH AIRWAYS PLC', 'EASYJET AIRLINE COMPANY LTD', 'EASYJET UK LTD', 'NORWEGIAN AIR INTERNATIONAL', 'THOMAS COOK AIRLINES LTD', 'TUI AIRWAYS LTD', 'EASYJET AIRLINE COMPANY LTD', 'EASYJET UK LTD', 'NORWEGIAN AIR INTERNATIONAL', 'NORWEGIAN AIR SHUTTLE', 'THOMAS COOK AIRLINES LTD', 'TUI AIRWAYS LTD', 'EASYJET AIRLINE COMPANY LTD', 'EASYJET UK LTD', 'TUI AIRWAYS LTD', 'AIR EUROPA', 'BRITISH AIRWAYS PLC', 'EASYJET AIRLINE COMPANY LTD', 'EASYJET UK LTD', 'NORWEGIAN AIR INTERNATIONAL', 'THOMAS COOK AIRLINES LTD', 'TUI AIRWAYS LTD', 'WOW AIR', 'NORWEGIAN AIR INTERNATIONAL', 'NORWEGIAN AIR SHUTTLE', 'ENTER AIR', 'EASYJET AIRLINE COMPANY LTD', 'EASYJET UK LTD', 'NORWEGIAN AIR INTERNATIONAL', 'EASYJET AIRLINE COMPANY LTD', 'EASYJET UK LTD', 'AER LINGUS', 'BRITISH AIRWAYS PLC', 'EASYJET AIRLINE COMPANY LTD', 'EASYJET UK LTD', 'GERMANIA FLUGGESELLSCHAFT', 'NETJETS TRANSPORTES AEREOS', 'NORWEGIAN AIR INTERNATIONAL', 'SWISS AIRLINES', 'THOMAS COOK AIRLINES LTD', 'THOMAS COOK AIRLINES LTD', 'TITAN AIRWAYS LTD', 'TUI AIRWAYS LTD', 'EASYJET AIRLINE COMPANY LTD', 'EASYJET UK LTD', 'GERMANIA FLUG', 'SWISS AIRLINES', 'VISTAJET LTD MALTA', 'THY TURKISH AIRLINES', 'FREEBIRD AIRLINES', 'THOMAS COOK AIRLINES LTD', 'THOMAS COOK AIRLINES LTD', 'FREEBIRD AIRLINES', 'THY TURKISH AIRLINES', 'THY TURKISH AIRLINES', 'QANTAS', 'BRITISH AIRWAYS PLC', 'QANTAS', 'AIR NEW ZEALAND LTD', 'AIR CANADA', 'BRITISH AIRWAYS PLC', 'AIR CANADA', 'AIR CANADA', 'AIR FRANCE', 'BRITISH AIRWAYS PLC', 'AIR CANADA', 'AIR CANADA', 'AIR CANADA', 'BRITISH AIRWAYS PLC', 'AIR CANADA', 'BRITISH AIRWAYS PLC', 'VIRGIN ATLANTIC AIRWAYS LTD', 'VIRGIN ATLANTIC AIRWAYS LTD', 'BRITISH AIRWAYS PLC', 'BRITISH AIRWAYS PLC', 'AEROMEXICO', 'BRITISH AIRWAYS PLC', 'ETHIOPIAN AIRLINES', 'BRITISH AIRWAYS PLC', 'KENYA AIRWAYS', 'AZERBAIJAN AIRLINES (AZAL)', 'BRITISH AIRWAYS PLC', 'BULGARIA AIR', 'BRITISH AIRWAYS PLC', 'BRITISH AIRWAYS PLC', 'BRITISH AIRWAYS PLC', 'AIR ASTANA', 'BRITISH AIRWAYS PLC', 'BRITISH AIRWAYS PLC', 'LOT-POLISH AIRLINES', 'BRITISH AIRWAYS PLC', 'TAROM', 'BRITISH AIRWAYS PLC', 'AEROFLOT', 'BRITISH AIRWAYS PLC', 'BRITISH AIRWAYS PLC', 'TURKMENISTAN AIRLINES', 'BRITISH AIRWAYS PLC', 'UZBEKISTAN AIRLINES', 'ROYAL BRUNEI AIRLINES', 'AIR CHINA', 'BRITISH AIRWAYS PLC', 'CHINA SOUTHERN', 'HAINAN AIRLINES', 'BEIJING CAPITAL AIRLINES', 'BEIJING CAPITAL AIRLINES', 'BRITISH AIRWAYS PLC', 'CHINA EASTERN AIRLINES', 'VIRGIN ATLANTIC AIRWAYS LTD', 'SHENZHEN AIRLINES', 'TIANJIN AIRLINES', 'CHINA SOUTHERN', 'BRITISH AIRWAYS PLC', 'CATHAY PACIFIC AIRWAYS', 'VIRGIN ATLANTIC AIRWAYS LTD', 'GARUDA INDONESIA', 'GARUDA INDONESIA', 'ALL NIPPON AIRWAYS', 'BRITISH AIRWAYS PLC', 'JAPAN AIRLINES', 'AEROFLOT', 'BRITISH AIRWAYS PLC', 'BRITISH AIRWAYS PLC', 'MALAYSIAN AIRLINES SYSTEM-MAS', 'PHILIPPINE AIRLINES', 'ASIANA AIRLINES', 'BRITISH AIRWAYS PLC', 'KOREAN AIR', 'BRITISH AIRWAYS PLC', 'SINGAPORE AIRLINES', 'EVA AIR', 'BRITISH AIRWAYS PLC', 'THAI AIRWAYS INTERNATIONAL', 'VIETNAM AIRLINES', 'VIETNAM AIRLINES', 'AIR MAURITIUS LTD', 'BRITISH AIRWAYS PLC', 'BIMAN BANGLADESH AIRLINES', 'AIR INDIA', 'AIR INDIA', 'BRITISH AIRWAYS PLC', 'AIR INDIA', 'BRITISH AIRWAYS PLC', 'JET AIRWAYS', 'AIR INDIA', 'BRITISH AIRWAYS PLC', 'JET AIRWAYS', 'VIRGIN ATLANTIC AIRWAYS LTD', 'BRITISH AIRWAYS PLC', 'BRITISH AIRWAYS PLC', 'PAKISTAN INTL AIRLINES', 'PAKISTAN INTL AIRLINES', 'PAKISTAN INTL AIRLINES', 'SRILANKAN AIRLINES', 'BRITISH AIRWAYS PLC', 'GULF AIR', 'BRITISH AIRWAYS PLC', 'IRAN AIR', 'BRITISH AIRWAYS PLC', 'KUWAIT AIRWAYS', 'BRITISH AIRWAYS PLC', 'OMAN AIR', 'BRITISH AIRWAYS PLC', 'QATAR AIRWAYS', 'BRITISH AIRWAYS PLC', 'SAUDI ARABIAN AIRLINES', 'BRITISH AIRWAYS PLC', 'SAUDI ARABIAN AIRLINES', 'BRITISH AIRWAYS PLC', 'ETIHAD AIRWAYS', 'BRITISH AIRWAYS PLC', 'EMIRATES', 'VIRGIN ATLANTIC AIRWAYS LTD', 'BRITISH AIRWAYS PLC', 'EL AL', 'BRITISH AIRWAYS PLC', 'ROYAL JORDANIAN', 'BRITISH AIRWAYS PLC', 'MIDDLE EAST AIRLINES (AIR LIBAN S A L)', 'AIR ALGERIE', 'BRITISH AIRWAYS PLC', 'EGYPT AIR', 'EGYPT AIR', 'ROYAL AIR MAROC', 'BRITISH AIRWAYS PLC', 'ROYAL AIR MAROC', 'TUNISAIR', 'BRITISH AIRWAYS PLC', 'BRITISH AIRWAYS PLC', 'BRITISH AIRWAYS PLC', 'TAM LINHAS AEREAS', 'BRITISH AIRWAYS PLC', 'AVIANCA COLOMBIA', 'BRITISH AIRWAYS PLC', 'BRITISH AIRWAYS PLC', 'BRITISH AIRWAYS PLC', 'SOUTH AFRICAN AIRWAYS', 'VIRGIN ATLANTIC AIRWAYS LTD', 'BRITISH AIRWAYS PLC', 'FLYBE LTD', 'AER LINGUS', 'BRITISH AIRWAYS PLC', 'BRITISH AIRWAYS PLC', 'BRITISH AIRWAYS PLC', 'FLYBE LTD', 'BRITISH AIRWAYS PLC', 'BRITISH AIRWAYS PLC', 'BRITISH AIRWAYS PLC', 'BRITISH AIRWAYS PLC', 'LUFTHANSA', 'SINGAPORE AIRLINES', 'VIRGIN ATLANTIC AIRWAYS LTD', 'BRITISH AIRWAYS PLC', 'BRITISH AIRWAYS PLC', 'DELTA AIRLINES', 'VIRGIN ATLANTIC AIRWAYS LTD', 'BRITISH AIRWAYS PLC', 'BRITISH AIRWAYS PLC', 'BRITISH AIRWAYS PLC', 'DELTA AIRLINES', 'UNITED AIRLINES', 'VIRGIN ATLANTIC AIRWAYS LTD', 'AMERICAN AIRLINES', 'LUFTHANSA', 'AMERICAN AIRLINES', 'BRITISH AIRWAYS PLC', 'UNITED AIRLINES', 'AMERICAN AIRLINES', 'BRITISH AIRWAYS PLC', 'DELTA AIRLINES', 'BRITISH AIRWAYS PLC', 'DELTA AIRLINES', 'BRITISH AIRWAYS PLC', 'SINGAPORE AIRLINES', 'UNITED AIRLINES', 'BRITISH AIRWAYS PLC', 'VIRGIN ATLANTIC AIRWAYS LTD', 'AMERICAN AIRLINES', 'BRITISH AIRWAYS PLC', 'UNITED AIRLINES', 'VIRGIN ATLANTIC AIRWAYS LTD', 'AMERICAN AIRLINES', 'BRITISH AIRWAYS PLC', 'VIRGIN ATLANTIC AIRWAYS LTD', 'DELTA AIRLINES', 'BRITISH AIRWAYS PLC', 'BRITISH AIRWAYS PLC', 'AMERICAN AIRLINES', 'BRITISH AIRWAYS PLC', 'DELTA AIRLINES', 'EMIRATES', 'VIRGIN ATLANTIC AIRWAYS LTD', 'VIRGIN ATLANTIC AIRWAYS LTD', 'AIR INDIA', 'BRITISH AIRWAYS PLC', 'UNITED AIRLINES', 'VIRGIN ATLANTIC AIRWAYS LTD', 'VIRGIN ATLANTIC AIRWAYS LTD', 'AMERICAN AIRLINES', 'BRITISH AIRWAYS PLC', 'DELTA AIRLINES', 'DELTA AIRLINES', 'BRITISH AIRWAYS PLC', 'AMERICAN AIRLINES', 'BRITISH AIRWAYS PLC', 'BRITISH AIRWAYS PLC', 'UNITED AIRLINES', 'VIRGIN ATLANTIC AIRWAYS LTD', 'BRITISH AIRWAYS PLC', 'BRITISH AIRWAYS PLC', 'VIRGIN ATLANTIC AIRWAYS LTD', 'BRITISH AIRWAYS PLC', 'UNITED AIRLINES', 'VIRGIN ATLANTIC AIRWAYS LTD', 'VIRGIN ATLANTIC AIRWAYS LTD', 'BRITISH AIRWAYS PLC', 'BRITISH AIRWAYS PLC', 'BRITISH AIRWAYS PLC', 'VIRGIN ATLANTIC AIRWAYS LTD', 'BRITISH AIRWAYS PLC', 'BRITISH AIRWAYS PLC', 'EUROWINGS LUFTVERKEHRS', 'AUSTRIAN AIRLINES', 'BRITISH AIRWAYS PLC', 'BRITISH AIRWAYS PLC', 'BRUSSELS AIRLINES', 'BRITISH AIRWAYS PLC', 'CROATIA AIRLINES', 'BRITISH AIRWAYS PLC', 'BRITISH AIRWAYS PLC', 'BRITISH AIRWAYS PLC', 'SAS', 'SCANDINAVIAN AIRLINES IRELAND LTD', 'BRITISH AIRWAYS PLC', 'FINNAIR', 'BRITISH AIRWAYS PLC', 'BRITISH AIRWAYS PLC', 'BRITISH AIRWAYS PLC', 'BRITISH AIRWAYS PLC', 'BRITISH AIRWAYS PLC', 'AIR FRANCE', 'BRITISH AIRWAYS PLC', 'BRITISH AIRWAYS PLC', 'BRITISH AIRWAYS PLC', 'EUROWINGS LUFTVERKEHRS', 'EUROWINGS LUFTVERKEHRS', 'BRITISH AIRWAYS PLC', 'EUROWINGS LUFTVERKEHRS', 'BRITISH AIRWAYS PLC', 'LUFTHANSA', 'BRITISH AIRWAYS PLC', 'EUROWINGS LUFTVERKEHRS', 'BRITISH AIRWAYS PLC', 'BRITISH AIRWAYS PLC', 'LUFTHANSA', 'BRITISH AIRWAYS PLC', 'EUROWINGS LUFTVERKEHRS', 'BRITISH AIRWAYS PLC', 'AEGEAN AIRLINES', 'BRITISH AIRWAYS PLC', 'BRITISH AIRWAYS PLC', 'ICELANDAIR', 'AER LINGUS', 'AER LINGUS', 'BRITISH AIRWAYS PLC', 'AER LINGUS', 'BRITISH AIRWAYS PLC', 'ALITALIA (CAI)', 'BRITISH AIRWAYS PLC', 'BRITISH AIRWAYS PLC', 'BRITISH AIRWAYS PLC', 'BRITISH AIRWAYS PLC', 'ALITALIA (CAI)', 'BRITISH AIRWAYS PLC', 'BRITISH AIRWAYS PLC', 'BRITISH AIRWAYS PLC', 'BRITISH AIRWAYS PLC', 'AIR MALTA', 'AIR CANADA', 'BRITISH AIRWAYS PLC', 'KLM', 'BRITISH AIRWAYS PLC', 'SAS', 'SCANDINAVIAN AIRLINES IRELAND LTD', 'SAS', 'AIR PORTUGAL', 'BRITISH AIRWAYS PLC', 'AIR SERBIA', 'BRITISH AIRWAYS PLC', 'IBERIA', 'BRITISH AIRWAYS PLC', 'VUELING AIRLINES', 'BRITISH AIRWAYS PLC', 'VUELING AIRLINES', 'BRITISH AIRWAYS PLC', 'IBERIA', 'BRITISH AIRWAYS PLC', 'BRITISH AIRWAYS PLC', 'VUELING AIRLINES', 'BRITISH AIRWAYS PLC', 'BRITISH AIRWAYS PLC', 'BRITISH AIRWAYS PLC', 'SAS', 'BRITISH AIRWAYS PLC', 'SAS', 'SCANDINAVIAN AIRLINES IRELAND LTD', 'BRITISH AIRWAYS PLC', 'BRITISH AIRWAYS PLC', 'SWISS AIRLINES', 'SWISS AIRLINES', 'BRITISH AIRWAYS PLC', 'SWISS AIRLINES', 'BRITISH AIRWAYS PLC', 'THY TURKISH AIRLINES', 'BA CITYFLYER LTD', 'LOT-POLISH AIRLINES', 'FLYBE LTD', 'FLYBE LTD', 'BA CITYFLYER LTD', 'FLYBE LTD', 'FLYBE LTD', 'BA CITYFLYER LTD', 'BA CITYFLYER LTD', 'LOGANAIR LTD', 'BLUE ISLANDS LIMITED', 'FLYBE LTD', 'BA CITYFLYER LTD', 'FLYBE LTD', 'FLYBE LTD', 'KLM', 'BRITISH AIRWAYS PLC', 'TYROLEAN AIRWAYS', 'BA CITYFLYER LTD', 'SUN AIR OF SCANDINAVIA', 'BA CITYFLYER LTD', 'BA CITYFLYER LTD', 'BA CITYFLYER LTD', 'BA CITYFLYER LTD', 'FLYBE LTD', 'BA CITYFLYER LTD', 'LUFTHANSA', 'BA CITYFLYER LTD', 'AER LINGUS', 'BA CITYFLYER LTD', 'CITY JET', 'FLYBE LTD', 'BA CITYFLYER LTD', 'ALITALIA (CAI)', 'BA CITYFLYER LTD', 'GERMANIA FLUGGESELLSCHAFT', 'STOBART AIR', 'ALITALIA (CAI)', 'BA CITYFLYER LTD', 'LUXAIR', 'BA CITYFLYER LTD', 'FLYBE LTD', 'KLM', 'BA CITYFLYER LTD', 'AIR PORTUGAL', 'AIR PORTUGAL', 'BA CITYFLYER LTD', 'BA CITYFLYER LTD', 'BA CITYFLYER LTD', 'SKY WORK AG', 'BA CITYFLYER LTD', 'SWISS AIRLINES', 'BA CITYFLYER LTD', 'SWISS AIRLINES', 'WIZZ AIR UK LTD', 'WIZZ AIR', 'WIZZ AIR UK LTD', 'WIZZ AIR', 'WIZZ AIR UK LTD', 'WIZZ AIR', 'WIZZ AIR', 'WIZZ AIR', 'WIZZ AIR UK LTD', 'WIZZ AIR UK LTD', 'WIZZ AIR', 'WIZZ AIR', 'WIZZ AIR', 'WIZZ AIR', 'RYANAIR', 'WIZZ AIR', 'WIZZ AIR UK LTD', 'WIZZ AIR', 'WIZZ AIR UK LTD', 'RYANAIR', 'WIZZ AIR', 'RYANAIR', 'WIZZ AIR', 'WIZZ AIR', 'EASYJET UK LTD', 'WIZZ AIR UK LTD', 'WIZZ AIR', 'WIZZ AIR UK LTD', 'WIZZ AIR', 'RYANAIR', 'WIZZ AIR', 'WIZZ AIR', 'WIZZ AIR UK LTD', 'WIZZ AIR', 'WIZZ AIR', 'WIZZ AIR', 'BLUE AIR TRANSPORT AERIAN', 'BLUE AIR TRANSPORT AERIAN', 'WIZZ AIR', 'WIZZ AIR UK LTD', 'BLUE AIR TRANSPORT AERIAN', 'WIZZ AIR', 'WIZZ AIR', 'WIZZ AIR UK LTD', 'WIZZ AIR', 'BLUE AIR TRANSPORT AERIAN', 'TAROM', 'WIZZ AIR', 'WIZZ AIR', 'WIZZ AIR UK LTD', 'WIZZ AIR', 'WIZZ AIR UK LTD', 'WIZZ AIR', 'WIZZ AIR UK LTD', 'WIZZ AIR', 'WIZZ AIR UK LTD', 'WIZZ AIR UK LTD', 'WIZZ AIR', 'WIZZ AIR UK LTD', 'WIZZ AIR', 'WIZZ AIR UK LTD', 'WIZZ AIR UK LTD', 'WIZZ AIR', 'WIZZ AIR UK LTD', 'WIZZ AIR UK LTD', 'EASYJET AIRLINE COMPANY LTD', 'EASYJET UK LTD', 'EL AL', 'WIZZ AIR', 'WIZZ AIR UK LTD', 'EASYJET AIRLINE COMPANY LTD', 'RYANAIR', 'EASYJET AIRLINE COMPANY LTD', 'EASYJET UK LTD', 'EASYJET AIRLINE COMPANY LTD', 'EASYJET UK LTD', 'EASYJET AIRLINE COMPANY LTD', 'EASYJET UK LTD', 'TUI AIRWAYS LTD', 'EASYJET AIRLINE COMPANY LTD', 'EASYJET UK LTD', 'EASYJET AIRLINE COMPANY LTD', 'EASYJET UK LTD', 'EASYJET AIRLINE COMPANY LTD', 'EASYJET UK LTD', 'EASYJET AIRLINE COMPANY LTD', 'EASYJET AIRLINE COMPANY LTD', 'RYANAIR', 'WIZZ AIR UK LTD', 'EASYJET UK LTD', 'EASYJET AIRLINE COMPANY LTD', 'EASYJET AIRLINE COMPANY LTD', 'EASYJET UK LTD', 'TUI AIRWAYS LTD', 'EASYJET AIRLINE COMPANY LTD', 'EASYJET UK LTD', 'TUI AIRWAYS LTD', 'EASYJET AIRLINE COMPANY LTD', 'EASYJET UK LTD', 'BLUE AIR TRANSPORT AERIAN', 'CYPRUS AIRWAYS', 'WIZZ AIR UK LTD', 'EASYJET AIRLINE COMPANY LTD', 'EASYJET UK LTD', 'TUI AIRWAYS LTD', 'RYANAIR', 'RYANAIR', 'RYANAIR', 'EASYJET AIRLINE COMPANY LTD', 'EASYJET UK LTD', 'TITAN AIRWAYS LTD', 'TUI AIRWAYS LTD', 'EASYJET AIRLINE COMPANY LTD', 'EASYJET UK LTD', 'WIZZ AIR UK LTD', 'EASYJET AIRLINE COMPANY LTD', 'EASYJET UK LTD', 'RYANAIR', 'EASYJET AIRLINE COMPANY LTD', 'EASYJET UK LTD', 'EASYJET AIRLINE COMPANY LTD', 'EASYJET UK LTD', 'EASYJET AIRLINE COMPANY LTD', 'EASYJET UK LTD', 'RYANAIR', 'EASYJET AIRLINE COMPANY LTD', 'EASYJET UK LTD', 'TRANSAVIA FRANCE', 'EASYJET AIRLINE COMPANY LTD', 'EASYJET UK LTD', 'EASYJET AIRLINE COMPANY LTD', 'EASYJET UK LTD', 'EASYJET UK LTD', 'EASYJET AIRLINE COMPANY LTD', 'EASYJET UK LTD', 'EASYJET AIRLINE COMPANY LTD', 'EASYJET AIRLINE COMPANY LTD', 'EASYJET UK LTD', 'EASYJET UK LTD', 'RYANAIR', 'WIZZ AIR UK LTD', 'EASYJET AIRLINE COMPANY LTD', 'EASYJET UK LTD', 'WIZZ AIR UK LTD', 'RYANAIR', 'RYANAIR', 'RYANAIR', 'RYANAIR', 'RYANAIR', 'EASYJET AIRLINE COMPANY LTD', 'EASYJET UK LTD', 'WIZZ AIR UK LTD', 'RYANAIR', 'EASYJET AIRLINE COMPANY LTD', 'EASYJET UK LTD', 'VUELING AIRLINES', 'EASYJET AIRLINE COMPANY LTD', 'EASYJET UK LTD', 'EUROPEAN AIR TRANSPORT LEIPZIG (EAT)', 'EASYJET AIRLINE COMPANY LTD', 'EASYJET UK LTD', 'EASYJET AIRLINE COMPANY LTD', 'EASYJET UK LTD', 'EASYJET AIRLINE COMPANY LTD', 'EASYJET UK LTD', 'VUELING AIRLINES', 'ALITALIA (CAI)', 'BLUE AIR TRANSPORT AERIAN', 'EASYJET AIRLINE COMPANY LTD', 'EASYJET UK LTD', 'EASYJET AIRLINE COMPANY LTD', 'EASYJET UK LTD', 'WIZZ AIR UK LTD', 'WIZZ AIR', 'WIZZ AIR UK LTD', 'WIZZ AIR', 'EASYJET UK LTD', 'RYANAIR', 'EASYJET AIRLINE COMPANY LTD', 'EASYJET UK LTD', 'IBERIA', 'VUELING AIRLINES', 'WIZZ AIR UK LTD', 'WIZZ AIR UK LTD', 'WIZZ AIR UK LTD', 'EASYJET AIRLINE COMPANY LTD', 'EASYJET UK LTD', 'EASYJET AIRLINE COMPANY LTD', 'EASYJET UK LTD', 'WIZZ AIR UK LTD', 'EASYJET AIRLINE COMPANY LTD', 'EASYJET UK LTD', 'WIZZ AIR', 'WIZZ AIR', 'WIZZ AIR UK LTD', 'EASYJET AIRLINE COMPANY LTD', 'EASYJET UK LTD', 'RYANAIR', 'EASYJET AIRLINE COMPANY LTD', 'EASYJET UK LTD', 'RYANAIR', 'VUELING AIRLINES', 'RYANAIR', 'EASYJET AIRLINE COMPANY LTD', 'EASYJET UK LTD', 'EASYJET AIRLINE COMPANY LTD', 'EASYJET UK LTD', 'RYANAIR', 'RYANAIR', 'EASYJET AIRLINE COMPANY LTD', 'EASYJET UK LTD', 'EASYJET AIRLINE COMPANY LTD', 'EASYJET UK LTD', 'EASYJET AIRLINE COMPANY LTD', 'EASYJET UK LTD', 'EASYJET AIRLINE COMPANY LTD', 'EASYJET UK LTD', 'RYANAIR', 'TUI AIRWAYS LTD', 'RYANAIR', 'TUI AIRWAYS LTD', 'TUI AIRWAYS LTD', 'EASYJET AIRLINE COMPANY LTD', 'EASYJET UK LTD', 'RYANAIR', 'TUI AIRWAYS LTD', 'EASYJET AIRLINE COMPANY LTD', 'EASYJET UK LTD', 'EASYJET AIRLINE COMPANY LTD', 'EASYJET UK LTD', 'EASYJET AIRLINE COMPANY LTD', 'EASYJET UK LTD', 'EASYJET AIRLINE COMPANY LTD', 'EASYJET UK LTD', 'TUI AIRWAYS LTD', 'JET2.COM LTD', 'SMALL PLANET AIRLINES', 'RYANAIR', 'EASYJET AIRLINE COMPANY LTD', 'RYANAIR', 'RYANAIR', 'RYANAIR', 'RYANAIR', 'EASYJET AIRLINE COMPANY LTD', 'EASYJET UK LTD', 'RYANAIR', 'RYANAIR', 'RYANAIR', 'RYANAIR', 'RYANAIR', 'RYANAIR', 'RYANAIR', 'RYANAIR', 'RYANAIR', 'RYANAIR', 'RYANAIR', 'RYANAIR', 'RYANAIR', 'RYANAIR', 'RYANAIR', 'RYANAIR', 'RYANAIR', 'RYANAIR', 'RYANAIR', 'AIR MOLDOVA INTERNATIONAL', 'RYANAIR', 'RYANAIR', 'RYANAIR', 'POBEDA AIRLINES LLC', 'RYANAIR', 'RYANAIR', 'RYANAIR', 'EMIRATES', 'ARKIA', 'EASYJET UK LTD', 'EASYJET UK LTD', 'RYANAIR', 'RYANAIR', 'RYANAIR', 'RYANAIR', 'EASYJET AIRLINE COMPANY LTD', 'EASYJET UK LTD', 'RYANAIR', 'LOGANAIR LTD', 'EASYJET AIRLINE COMPANY LTD', 'EASYJET UK LTD', 'LOGANAIR LTD', 'RYANAIR', 'EASYJET AIRLINE COMPANY LTD', 'EASYJET UK LTD', 'AURIGNY AIR SERVICES', 'BMI REGIONAL', 'LOGANAIR LTD', 'AUSTRIAN AIRLINES', 'LAUDA MOTION GMBH', 'TUI AIRWAYS LTD', 'RYANAIR', 'TUI AIRWAYS LTD', 'EUROWINGS LUFTVERKEHRS', 'JET2.COM LTD', 'RYANAIR', 'TUI AIRWAYS LTD', 'EUROWINGS LUFTVERKEHRS', 'LAUDA MOTION GMBH', 'COBALT', 'JET2.COM LTD', 'JET2.COM LTD', 'RYANAIR', 'TUI AIRWAYS LTD', 'RYANAIR', 'RYANAIR', 'RYANAIR', 'EASYJET AIRLINE COMPANY LTD', 'RYANAIR', 'TRANSAVIA', 'RYANAIR', 'RYANAIR', 'RYANAIR', 'RYANAIR', 'BA CITYFLYER LTD', 'TITAN AIRWAYS LTD', 'RYANAIR', 'RYANAIR', 'EASYJET AIRLINE COMPANY LTD', 'EASYJET UK LTD', 'JET2.COM LTD', 'RYANAIR', 'TITAN AIRWAYS LTD', 'RYANAIR', 'RYANAIR', 'RYANAIR', 'EASYJET UK LTD', 'JET2.COM LTD', 'RYANAIR', 'RYANAIR', 'EASYJET AIRLINE COMPANY LTD', 'EASYJET UK LTD', 'RYANAIR', 'RYANAIR', 'BA CITYFLYER LTD', 'RYANAIR', 'RYANAIR', 'RYANAIR', 'RYANAIR', 'RYANAIR', 'BA CITYFLYER LTD', 'RYANAIR', 'EUROWINGS LUFTVERKEHRS', 'RYANAIR', 'RYANAIR', 'RYANAIR', 'RYANAIR', 'RYANAIR', 'EUROWINGS LUFTVERKEHRS', 'JET2.COM LTD', 'RYANAIR', 'RYANAIR', 'RYANAIR', 'EASYJET AIRLINE COMPANY LTD', 'EASYJET UK LTD', 'EUROWINGS LUFTVERKEHRS', 'RYANAIR', 'RYANAIR', 'EUROWINGS LUFTVERKEHRS', 'RYANAIR', 'AIR MEDITERRANEAN', 'RYANAIR', 'RYANAIR', 'RYANAIR', 'EASYJET AIRLINE COMPANY LTD', 'EASYJET UK LTD', 'RYANAIR', 'RYANAIR', 'BA CITYFLYER LTD', 'RYANAIR', 'RYANAIR', 'RYANAIR', 'TITAN AIRWAYS LTD', 'RYANAIR', 'RYANAIR', 'RYANAIR', 'RYANAIR', 'EASYJET AIRLINE COMPANY LTD', 'EASYJET UK LTD', 'RYANAIR', 'RYANAIR', 'RYANAIR', 'RYANAIR', 'ALITALIA (CAI)', 'BA CITYFLYER LTD', 'RYANAIR', 'EASYJET AIRLINE COMPANY LTD', 'EASYJET UK LTD', 'RYANAIR', 'RYANAIR', 'RYANAIR', 'RYANAIR', 'RYANAIR', 'RYANAIR', 'RYANAIR', 'JET2.COM LTD', 'RYANAIR', 'TUI AIRWAYS LTD', 'RYANAIR', 'RYANAIR', 'RYANAIR', 'RYANAIR', 'EASYJET AIRLINE COMPANY LTD', 'EASYJET UK LTD', 'RYANAIR', 'WIDEROE FLYVESELSKAP A/S', 'RYANAIR', 'RYANAIR', 'JET2.COM LTD', 'RYANAIR', 'RYANAIR', 'RYANAIR', 'RYANAIR', 'JET2.COM LTD', 'RYANAIR', 'EASYJET AIRLINE COMPANY LTD', 'EASYJET UK LTD', 'JET2.COM LTD', 'RYANAIR', 'EASYJET AIRLINE COMPANY LTD', 'RYANAIR', 'EASYJET AIRLINE COMPANY LTD', 'EASYJET UK LTD', 'RYANAIR', 'RYANAIR', 'RYANAIR', 'JET2.COM LTD', 'JET2.COM LTD', 'RYANAIR', 'EASYJET AIRLINE COMPANY LTD', 'EASYJET UK LTD', 'JET2.COM LTD', 'RYANAIR', 'RYANAIR', 'EASYJET AIRLINE COMPANY LTD', 'EASYJET UK LTD', 'JET2.COM LTD', 'RYANAIR', 'JET2.COM LTD', 'RYANAIR', 'RYANAIR', 'RYANAIR', 'RYANAIR', 'RYANAIR', 'RYANAIR', 'RYANAIR', 'JET2.COM LTD', 'RYANAIR', 'THOMAS COOK AIRLINES LTD', 'TUI AIRWAYS LTD', 'JET2.COM LTD', 'RYANAIR', 'THOMAS COOK AIRLINES LTD', 'TUI AIRWAYS LTD', 'JET2.COM LTD', 'RYANAIR', 'TUI AIRWAYS LTD', 'JET2.COM LTD', 'RYANAIR', 'THOMAS COOK AIRLINES LTD', 'TUI AIRWAYS LTD', 'BA CITYFLYER LTD', 'RYANAIR', 'JET2.COM LTD', 'TRANSAVIA', 'RYANAIR', 'RYANAIR', 'RYANAIR', 'EASYJET AIRLINE COMPANY LTD', 'EASYJET UK LTD', 'JET2.COM LTD', 'SWISS AIRLINES', 'GERMANIA FLUGGESELLSCHAFT', 'SWISS AIRLINES', 'JET2.COM LTD', 'ATLASJET INTERNATIONAL', 'PEGASUS AIRLINES', 'PEGASUS AIRLINES', 'TUI AIRWAYS LTD', 'THOMAS COOK AIRLINES LTD', 'TUI AIRWAYS LTD', 'AIR TRANSAT', 'THOMAS COOK AIRLINES LTD', 'THOMAS COOK AIRLINES LTD', 'THOMAS COOK AIRLINES LTD', 'TUI AIRWAYS LTD', 'VIRGIN ATLANTIC AIRWAYS LTD', 'TUI AIRWAYS LTD', 'THOMAS COOK AIRLINES LTD', 'THOMAS COOK AIRLINES LTD', 'THOMAS COOK AIRLINES LTD', 'THOMAS COOK AIRLINES LTD', 'THOMAS COOK AIRLINES LTD', 'TUI AIRWAYS LTD', 'TUI AIRWAYS LTD', 'TUI AIRWAYS LTD', 'THOMAS COOK AIRLINES LTD', 'TUI AIRWAYS LTD', 'TUI AIRWAYS LTD', 'ETHIOPIAN AIRLINES', 'EASYJET AIRLINE COMPANY LTD', 'EASYJET UK LTD', 'JET2.COM LTD', 'TUI AIRWAYS LTD', 'EASYJET AIRLINE COMPANY LTD', 'EASYJET UK LTD', 'JET2.COM LTD', 'EASYJET UK LTD', 'JET2.COM LTD', 'RYANAIR', 'RYANAIR', 'RYANAIR', 'EASYJET AIRLINE COMPANY LTD', 'EASYJET UK LTD', 'JET2.COM LTD', 'RYANAIR', 'RYANAIR', 'RYANAIR', 'RYANAIR', 'TUI AIRWAYS LTD', 'TUI AIRWAYS LTD', 'RYANAIR', 'HAINAN AIRLINES', 'CATHAY PACIFIC AIRWAYS', 'TUI AIRWAYS LTD', 'SINGAPORE AIRLINES', 'TUI AIRWAYS LTD', 'TUI AIRWAYS LTD', 'JET AIRWAYS', 'THOMAS COOK AIRLINES LTD', 'TUI AIRWAYS LTD', 'PAKISTAN INTL AIRLINES', 'PAKISTAN INTL AIRLINES', 'THOMAS COOK AIRLINES LTD', 'IRAQI AIRWAYS', 'OMAN AIR', 'QATAR AIRWAYS', 'SAUDI ARABIAN AIRLINES', 'ETIHAD AIRWAYS', 'EMIRATES', 'VIRGIN ATLANTIC AIRWAYS LTD', 'GAINJET AVIATION', 'MALETH AERO', 'TITAN AIRWAYS LTD', 'EASYJET AIRLINE COMPANY LTD', 'EASYJET UK LTD', 'THOMAS COOK AIRLINES LTD', 'TUI AIRWAYS LTD', 'AIR ARABIA MAROC', 'EASYJET AIRLINE COMPANY LTD', 'EASYJET UK LTD', 'RYANAIR', 'TUI AIRWAYS LTD', 'ROYAL AIR MAROC', 'EASYJET AIRLINE COMPANY LTD', 'EASYJET UK LTD', 'THOMAS COOK AIRLINES LTD', 'TUI AIRWAYS LTD', 'THOMAS COOK AIRLINES LTD', 'TUI AIRWAYS LTD', 'THOMAS COOK AIRLINES LTD', 'THOMAS COOK AIRLINES LTD', 'AIR FRANCE', 'FLYBE LTD', 'FLYBE LTD', 'EASYJET AIRLINE COMPANY LTD', 'EASYJET UK LTD', 'RYANAIR', 'AER LINGUS', 'AURIGNY AIR SERVICES', 'CELLO AVIATION LTD', 'ENTER AIR', 'BRITISH AIRWAYS PLC', 'FLYBE LTD', 'JET2.COM LTD', 'FLYBE LTD', 'FLYBE LTD', 'BRITISH AIRWAYS PLC', 'FLYBE LTD', 'LOGANAIR LTD', 'AIRTANKER SERVICES LTD', 'JET2.COM LTD', 'AURIGNY AIR SERVICES', 'LOGANAIR LTD', 'FLYBE LTD', 'JOTA AVIATION LTD', 'FLYBE LTD', 'EASYJET UK LTD', 'BRITISH AIRWAYS PLC', 'BRITISH AIRWAYS PLC', 'BRITISH AIRWAYS PLC', 'MALETH AERO', 'THY TURKISH AIRLINES', 'JOTA AVIATION LTD', 'FLYBE LTD', 'LOGANAIR LTD', 'FLYBE LTD', 'FLYBE LTD', 'JOTA AVIATION LTD', 'LOGANAIR LTD', 'VIRGIN ATLANTIC AIRWAYS LTD', 'AMERICAN AIRLINES', 'SINGAPORE AIRLINES', 'THOMAS COOK AIRLINES LTD', 'VIRGIN ATLANTIC AIRWAYS LTD', 'JET2.COM LTD', 'UNITED AIRLINES', 'THOMAS COOK AIRLINES LTD', 'VIRGIN ATLANTIC AIRWAYS LTD', 'AMERICAN AIRLINES', 'THOMAS COOK AIRLINES LTD', 'AUSTRIAN AIRLINES', 'EASYJET UK LTD', 'FLYBE LTD', 'THOMAS COOK AIRLINES LTD', 'TUI AIRWAYS LTD', 'BRITISH AIRWAYS PLC', 'EUROWINGS LUFTVERKEHRS', 'JET2.COM LTD', 'TUI AIRWAYS LTD', 'AUSTRIAN AIRLINES', 'EASYJET AIRLINE COMPANY LTD', 'EASYJET UK LTD', 'BRUSSELS AIRLINES', 'RYANAIR', 'SPRINTAIR', 'COBALT', 'EASYJET AIRLINE COMPANY LTD', 'EASYJET UK LTD', 'JET2.COM LTD', 'TUI AIRWAYS LTD', 'THOMAS COOK SCANDANAVIA', 'BRITISH AIRWAYS PLC', 'EASYJET AIRLINE COMPANY LTD', 'EASYJET UK LTD', 'SAS', 'ENTER AIR', 'FINNAIR', 'JET2.COM LTD', 'THOMAS COOK AIRLINES LTD', 'JET2.COM LTD', 'TUI AIRWAYS LTD', 'TUI AIRWAYS LTD', 'SUN AIR OF SCANDINAVIA', 'EASYJET UK LTD', 'RYANAIR', 'BRITISH AIRWAYS PLC', 'BRITISH AIRWAYS PLC', 'FLYBE LTD', 'TITAN AIRWAYS LTD', 'TUI AIRWAYS LTD', 'BRITISH AIRWAYS PLC', 'JET2.COM LTD', 'THOMAS COOK AIRLINES LTD', 'THOMAS COOK AIRLINES LTD', 'RYANAIR', 'EASYJET AIRLINE COMPANY LTD', 'EASYJET UK LTD', 'FLYBE LTD', 'JET2.COM LTD', 'AERO4M', 'FLYBE LTD', 'AIR FRANCE', 'EASYJET AIRLINE COMPANY LTD', 'EASYJET UK LTD', 'FLYBE LTD', 'MALETH AERO', 'FLYBE LTD', 'FLYBE LTD', 'TUI AIRWAYS LTD', 'EASYJET AIRLINE COMPANY LTD', 'EASYJET UK LTD', 'RYANAIR', 'RYANAIR', 'EUROWINGS LUFTVERKEHRS', 'RYANAIR', 'EMIRATES', 'EUROWINGS LUFTVERKEHRS', 'FLYBE LTD', 'LUFTHANSA', 'RYANAIR', 'RYANAIR', 'EASYJET AIRLINE COMPANY LTD', 'EASYJET UK LTD', 'EUROWINGS LUFTVERKEHRS', 'RYANAIR', 'FLYBE LTD', 'JET2.COM LTD', 'EASYJET AIRLINE COMPANY LTD', 'EASYJET UK LTD', 'LUFTHANSA', 'THOMAS COOK AIRLINES LTD', 'RYANAIR', 'RYANAIR', 'EASYJET AIRLINE COMPANY LTD', 'EASYJET UK LTD', 'AEGEAN AIRLINES', 'EASYJET AIRLINE COMPANY LTD', 'EASYJET UK LTD', 'AEGEAN AIRLINES', 'EASYJET AIRLINE COMPANY LTD', 'EASYJET UK LTD', 'EASYJET AIRLINE COMPANY LTD', 'EASYJET UK LTD', 'ICELANDAIR', 'TUI AIRWAYS LTD', 'FLYBE LTD', 'AER LINGUS', 'AER LINGUS', 'RYANAIR', 'RYANAIR', 'RYANAIR', 'EASYJET AIRLINE COMPANY LTD', 'EASYJET UK LTD', 'RYANAIR', 'EASYJET AIRLINE COMPANY LTD', 'EASYJET UK LTD', 'FLYBE LTD', 'RYANAIR', 'EASYJET AIRLINE COMPANY LTD', 'EASYJET UK LTD', 'RYANAIR', 'JET2.COM LTD', 'EASYJET AIRLINE COMPANY LTD', 'EASYJET UK LTD', 'JET2.COM LTD', 'TUI AIRWAYS LTD', 'RYANAIR', 'EASYJET AIRLINE COMPANY LTD', 'EASYJET UK LTD', 'TUI AIRWAYS LTD', 'FLYBE LTD', 'EASYJET AIRLINE COMPANY LTD', 'EASYJET UK LTD', 'RYANAIR', 'TUI AIRWAYS LTD', 'BRITISH AIRWAYS PLC', 'EASYJET AIRLINE COMPANY LTD', 'EASYJET UK LTD', 'FLYBE LTD', 'KLM', 'RYANAIR', 'GERMANIA FLUGGESELLSCHAFT', 'LOGANAIR LTD', 'TITAN AIRWAYS LTD', 'NORWEGIAN AIR SHUTTLE', 'SAS', 'RYANAIR', 'NORWEGIAN AIR SHUTTLE', 'EASYJET UK LTD', 'JET2.COM LTD', 'RYANAIR', 'AIR PORTUGAL', 'EASYJET UK LTD', 'RYANAIR', 'EASYJET AIRLINE COMPANY LTD', 'EASYJET UK LTD', 'RYANAIR', 'EASYJET AIRLINE COMPANY LTD', 'EASYJET UK LTD', 'JET2.COM LTD', 'THOMAS COOK AIRLINES LTD', 'TUI AIRWAYS LTD', 'EASYJET AIRLINE COMPANY LTD', 'EASYJET UK LTD', 'JET2.COM LTD', 'RYANAIR', 'THOMAS COOK AIRLINES LTD', 'TUI AIRWAYS LTD', 'EASYJET UK LTD', 'JET2.COM LTD', 'RYANAIR', 'VUELING AIRLINES', 'EASYJET AIRLINE COMPANY LTD', 'EASYJET UK LTD', 'RYANAIR', 'EASYJET AIRLINE COMPANY LTD', 'EASYJET UK LTD', 'THOMAS COOK AIRLINES LTD', 'THOMAS COOK AIRLINES LTD', 'IBERIA EXPRESS', 'RYANAIR', 'EASYJET AIRLINE COMPANY LTD', 'EASYJET UK LTD', 'EUROPE AIRPOST', 'JET2.COM LTD', 'RYANAIR', 'TUI AIRWAYS LTD', 'RYANAIR', 'EASYJET AIRLINE COMPANY LTD', 'EASYJET UK LTD', 'JET2.COM LTD', 'RYANAIR', 'RYANAIR', 'RYANAIR', 'EASYJET UK LTD', 'JET2.COM LTD', 'RYANAIR', 'THOMAS COOK AIRLINES LTD', 'TUI AIRWAYS LTD', 'AER LINGUS', 'JET2.COM LTD', 'RYANAIR', 'THOMAS COOK AIRLINES LTD', 'TUI AIRWAYS LTD', 'EASYJET AIRLINE COMPANY LTD', 'EASYJET UK LTD', 'JET2.COM LTD', 'RYANAIR', 'THOMAS COOK AIRLINES LTD', 'TUI AIRWAYS LTD', 'TUI AIRWAYS LTD', 'AIR EUROPA', 'EASYJET AIRLINE COMPANY LTD', 'EASYJET UK LTD', 'JET2.COM LTD', 'RYANAIR', 'THOMAS COOK AIRLINES LTD', 'THOMAS COOK SCANDANAVIA', 'TUI AIRWAYS LTD', 'VUELING AIRLINES', 'BRITISH AIRWAYS PLC', 'SUN AIR OF SCANDINAVIA', 'JET2.COM LTD', 'NORWEGIAN AIR SHUTTLE', 'SAS', 'EASYJET AIRLINE COMPANY LTD', 'EASYJET UK LTD', 'EASYJET AIRLINE COMPANY LTD', 'EASYJET SWITZERLAND', 'EASYJET UK LTD', 'JET2.COM LTD', 'TUI AIRWAYS LTD', 'SWISS AIRLINES', 'FREEBIRD AIRLINES', 'JET2.COM LTD', 'THOMAS COOK AIRLINES LTD', 'THOMAS COOK AIRLINES LTD', 'THY TURKISH AIRLINES', 'TUI AIRWAYS LTD', 'TUI AIRWAYS LTD', 'JET2.COM LTD', 'JET2.COM LTD', 'JET2.COM LTD', 'RYANAIR', 'RYANAIR', 'EMIRATES', 'EMIRATES', 'THOMAS COOK AIRLINES LTD', 'EASTERN AIRWAYS', 'FLYBE LTD', 'EASYJET AIRLINE COMPANY LTD', 'EASYJET UK LTD', 'EASYJET AIRLINE COMPANY LTD', 'EASYJET UK LTD', 'FLYBE LTD', 'BMI REGIONAL', 'EASTERN AIRWAYS', 'EASTERN AIRWAYS', 'FLYBE LTD', 'BMI REGIONAL', 'FLYBE LTD', 'EASTERN AIRWAYS', 'FLYBE LTD', 'FLYBE LTD', 'BRITISH AIRWAYS PLC', 'EASTERN AIRWAYS', 'FLYBE LTD', 'EASTERN AIRWAYS', 'EASTERN AIRWAYS', 'EASYJET AIRLINE COMPANY LTD', 'JOTA AVIATION LTD', 'EASTERN AIRWAYS', 'FLYBE LTD', 'FLYBE LTD', 'EASTERN AIRWAYS', 'JET2.COM LTD', 'TUI AIRWAYS LTD', 'TUI AIRWAYS LTD', 'BMI REGIONAL', 'TUI AIRWAYS LTD', 'ENTER AIR', 'JET2.COM LTD', 'JET2.COM LTD', 'AIR FRANCE', 'VOLOTEA', 'EASYJET AIRLINE COMPANY LTD', 'EASYJET UK LTD', 'EUROWINGS LUFTVERKEHRS', 'ENTER AIR', 'TITAN AIRWAYS LTD', 'AER LINGUS', 'AER LINGUS', 'RYANAIR', 'STOBART AIR', 'TUI AIRWAYS LTD', 'EASYJET AIRLINE COMPANY LTD', 'EASYJET UK LTD', 'EASYJET AIRLINE COMPANY LTD', 'JET2.COM LTD', 'KLM', 'BMI REGIONAL', 'EASYJET AIRLINE COMPANY LTD', 'EASYJET UK LTD', 'JET2.COM LTD', 'EASYJET AIRLINE COMPANY LTD', 'EASYJET UK LTD', 'JET2.COM LTD', 'RYANAIR', 'RYANAIR', 'TUI AIRWAYS LTD', 'EASYJET AIRLINE COMPANY LTD', 'EASYJET UK LTD', 'RYANAIR', 'EASYJET AIRLINE COMPANY LTD', 'EASYJET UK LTD', 'JET2.COM LTD', 'RYANAIR', 'JET2.COM LTD', 'RYANAIR', 'THOMAS COOK AIRLINES LTD', 'TUI AIRWAYS LTD', 'JET2.COM LTD', 'JET2.COM LTD', 'THOMAS COOK AIRLINES LTD', 'JET2.COM LTD', 'JET2.COM LTD', 'TUI AIRWAYS LTD', 'EASYJET AIRLINE COMPANY LTD', 'EASYJET UK LTD', 'JET2.COM LTD', 'RYANAIR', 'THOMAS COOK AIRLINES LTD', 'TUI AIRWAYS LTD', 'EASYJET AIRLINE COMPANY LTD', 'EASYJET UK LTD', 'TUI AIRWAYS LTD', 'FLYBE LTD', 'AURIGNY AIR SERVICES', 'FLYBE LTD', '2 EXCEL AVIATION LTD T/A THE BLADES BROADSWORD SCIMITAR SABRE AND T2', 'JOTA AVIATION LTD', 'FLYBE LTD', 'FLYBE LTD', 'FLYBE LTD', 'AURIGNY AIR SERVICES', 'BLUE ISLANDS LIMITED', 'FLYBE LTD', 'BLUE ISLANDS LIMITED', 'FLYBE LTD', 'EASTERN AIRWAYS', 'FLYBE LTD', 'JOTA AVIATION LTD', 'FLYBE LTD', 'FLYBE LTD', 'FLYBE LTD', 'FLYBE LTD', 'FLYBE LTD', 'FLYBE LTD', 'FLYBE LTD', 'FLYBE LTD', 'FLYBE LTD', 'FLYBE LTD', 'FLYBE LTD', 'FLYBE LTD', 'FLYBE LTD', 'FLYBE LTD', 'BMI REGIONAL', 'BMI REGIONAL', 'AER LINGUS', 'FLYBE LTD', 'FLYBE LTD', 'KLM', 'KLM CITYHOPPER', 'FLYBE LTD', 'EASYJET AIRLINE COMPANY LTD', 'EASYJET SWITZERLAND', 'FLYBE LTD', 'EASYJET UK LTD', 'EASYJET UK LTD', 'FLYBE LTD', 'STOBART AIR', 'EASYJET UK LTD', 'FLYBE LTD', 'STOBART AIR', 'FLYBE LTD', 'FLYBE LTD', 'FLYBE LTD', 'BA CITYFLYER LTD', 'FLYBE LTD', 'STOBART AIR', 'KLM CITYHOPPER', 'BA CITYFLYER LTD', 'FLYBE LTD', 'STOBART AIR', 'FLYBE LTD', 'FLYBE LTD', 'STOBART AIR', 'STOBART AIR', 'DANISH AIR TRANSPORT', 'STOBART AIR', 'EASYJET AIRLINE COMPANY LTD', 'STOBART AIR', 'EASYJET AIRLINE COMPANY LTD', 'EASYJET UK LTD', 'BA CITYFLYER LTD', 'EASYJET UK LTD', 'STOBART AIR', 'FLYBE LTD', 'STOBART AIR', 'FLYBE LTD', 'ADRIA AIRWAYS', 'BA CITYFLYER LTD', 'CITY JET', 'FLYBE LTD', 'STOBART AIR', 'AIR MALTA', 'BA CITYFLYER LTD', 'BA CITYFLYER LTD', 'AIR MALTA', 'EASYJET AIRLINE COMPANY LTD', 'EASYJET UK LTD', 'EASYJET AIRLINE COMPANY LTD', 'EASYJET UK LTD', 'FLYBE LTD', 'KLM CITYHOPPER', 'STOBART AIR', 'EASYJET AIRLINE COMPANY LTD', 'EASYJET UK LTD', 'EASYJET AIRLINE COMPANY LTD', 'EASYJET UK LTD', 'EASYJET AIRLINE COMPANY LTD', 'EASYJET UK LTD', 'EASYJET UK LTD', 'BA CITYFLYER LTD', 'EASYJET AIRLINE COMPANY LTD', 'EASYJET UK LTD', 'EASYJET UK LTD', 'EASYJET AIRLINE COMPANY LTD', 'EASYJET UK LTD', 'EASYJET AIRLINE COMPANY LTD', 'EASYJET UK LTD', 'BA CITYFLYER LTD', 'EASYJET AIRLINE COMPANY LTD', 'EASYJET UK LTD', 'EASTERN AIRWAYS', 'FLYBE LTD', 'LOGANAIR LTD', 'FLYBE LTD', 'EASTERN AIRWAYS', 'EASTERN AIRWAYS', 'FLYBE LTD', 'CELLO AVIATION LTD', 'EASTERN AIRWAYS', 'LOGANAIR LTD', 'KLM']\n",
      "0\n"
     ]
    },
    {
     "data": {
      "text/plain": [
       "0.35611688954928183"
      ]
     },
     "execution_count": 85,
     "metadata": {},
     "output_type": "execute_result"
    }
   ],
   "source": [
    "import pandas as pd\n",
    "from sklearn.model_selection import train_test_split\n",
    "from sklearn import svm\n",
    "from sklearn.preprocessing import LabelBinarizer\n",
    "from sklearn import utils\n",
    "from sklearn import metrics\n",
    "\n",
    "\n",
    "a = pd.read_csv('~/Downloads/a.csv')\n",
    "X = a.filter(['reporting_airport', 'origin_destination', \n",
    "              'airline_name'])\n",
    "y = a['average_delay_mins']\n",
    "\n",
    "reporting_airports = X['reporting_airport']\n",
    "origin_airports = X['origin_destination']\n",
    "airports = np.array(pd.DataFrame(list(reporting_airports + origin_airports)).drop_duplicates())\n",
    "\n",
    "airports_le = LabelBinarizer()\n",
    "\n",
    "airlines = X['airline_name'].drop_duplicates(keep=\"first\")\n",
    "airlines_le = LabelBinarizer()\n",
    "\n",
    "X['reporting_airport'] = airports_le.fit_transform(X['reporting_airport'])\n",
    "X['origin_destination'] = airports_le.fit_transform(X['origin_destination'])\n",
    "b = list(X['airline_name'])\n",
    "print(b)\n",
    "X['airline_name'] = airlines_le.fit_transform(b)\n",
    "\n",
    "print(X['airline_name'][50])\n",
    "X_train, X_test, y_train, y_test = train_test_split(X, y, test_size=0.6, random_state=2)\n",
    "\n",
    "clf = svm.SVC(gamma=0.00001)\n",
    "              \n",
    "clf.fit(X_train, y_train.astype(int))\n",
    "pred = clf.predict(X_test)\n",
    "metrics.accuracy_score(pred, y_test.astype(int))"
   ]
  },
  {
   "cell_type": "code",
   "execution_count": 12,
   "metadata": {},
   "outputs": [
    {
     "name": "stdout",
     "output_type": "stream",
     "text": [
      "  (0, 0)\t2\n",
      "  (0, 2)\t1\n",
      "  (1, 0)\t4\n",
      "  (1, 1)\t5\n",
      "[3 4 5]\n",
      "[[20  0 10]\n",
      " [40 50  0]]\n",
      "5\n",
      "0\n"
     ]
    }
   ],
   "source": [
    "import numpy as np\n",
    "from scipy import sparse\n",
    "\n",
    "# Make matrix\n",
    "matrix = np.array([[2,0,1],\n",
    "                   [4,5,0]])\n",
    "\n",
    "matrix_sparse = sparse.csr_matrix(matrix)\n",
    "print(matrix_sparse) # Matrix without zeros\n",
    "\n",
    "vector = np.array([0, 1, 2, 3, 4, 5, 6, 7, 8, 9])\n",
    "print(vector[3:6]) # Get values from 4th to 6th place\n",
    "\n",
    "multiply_by_10 = lambda i: i*10\n",
    "vectorized_multiply_by_10 = np.vectorize(multiply_by_10)\n",
    "print(vectorized_multiply_by_10(matrix))# Function that execute on a matrix\n",
    "\n",
    "print(np.max(matrix))\n",
    "print(np.min(matrix))"
   ]
  },
  {
   "cell_type": "markdown",
   "metadata": {},
   "source": [
    "# Pandas"
   ]
  },
  {
   "cell_type": "code",
   "execution_count": 13,
   "metadata": {},
   "outputs": [
    {
     "data": {
      "text/html": [
       "<div>\n",
       "<style scoped>\n",
       "    .dataframe tbody tr th:only-of-type {\n",
       "        vertical-align: middle;\n",
       "    }\n",
       "\n",
       "    .dataframe tbody tr th {\n",
       "        vertical-align: top;\n",
       "    }\n",
       "\n",
       "    .dataframe thead th {\n",
       "        text-align: right;\n",
       "    }\n",
       "</style>\n",
       "<table border=\"1\" class=\"dataframe\">\n",
       "  <thead>\n",
       "    <tr style=\"text-align: right;\">\n",
       "      <th></th>\n",
       "      <th>Name</th>\n",
       "      <th>Age</th>\n",
       "    </tr>\n",
       "  </thead>\n",
       "  <tbody>\n",
       "    <tr>\n",
       "      <th>0</th>\n",
       "      <td>Jimmy</td>\n",
       "      <td>12</td>\n",
       "    </tr>\n",
       "    <tr>\n",
       "      <th>1</th>\n",
       "      <td>Majster</td>\n",
       "      <td>34</td>\n",
       "    </tr>\n",
       "  </tbody>\n",
       "</table>\n",
       "</div>"
      ],
      "text/plain": [
       "      Name Age\n",
       "0    Jimmy  12\n",
       "1  Majster  34"
      ]
     },
     "execution_count": 13,
     "metadata": {},
     "output_type": "execute_result"
    }
   ],
   "source": [
    "import pandas as pd\n",
    "\n",
    "dataframe = pd.DataFrame()\n",
    "\n",
    "dataframe['Name'] = ['Jimmy', 'Majster']\n",
    "dataframe['Age'] = ['12', '34']\n",
    "dataframe.head()"
   ]
  }
 ],
 "metadata": {
  "kernelspec": {
   "display_name": "Python 3",
   "language": "python",
   "name": "python3"
  },
  "language_info": {
   "codemirror_mode": {
    "name": "ipython",
    "version": 3
   },
   "file_extension": ".py",
   "mimetype": "text/x-python",
   "name": "python",
   "nbconvert_exporter": "python",
   "pygments_lexer": "ipython3",
   "version": "3.7.5"
  }
 },
 "nbformat": 4,
 "nbformat_minor": 2
}

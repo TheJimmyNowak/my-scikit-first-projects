{
 "cells": [
  {
   "cell_type": "markdown",
   "metadata": {},
   "source": [
    "# My first sci-kit script :)\n",
    "I've used caa punctuality statistics. To predict percentage chance to plane late.\n",
    "Enjoy"
   ]
  },
  {
   "cell_type": "code",
   "execution_count": 82,
   "metadata": {},
   "outputs": [],
   "source": [
    "import pandas as pd\n",
    "from sklearn.model_selection import train_test_split\n",
    "from sklearn import svm\n",
    "from sklearn.preprocessing import LabelBinarizer\n",
    "from sklearn import utils\n",
    "from sklearn import metrics\n",
    "import numpy as np"
   ]
  },
  {
   "cell_type": "code",
   "execution_count": 83,
   "metadata": {
    "scrolled": false
   },
   "outputs": [
    {
     "data": {
      "text/html": [
       "<div>\n",
       "<style scoped>\n",
       "    .dataframe tbody tr th:only-of-type {\n",
       "        vertical-align: middle;\n",
       "    }\n",
       "\n",
       "    .dataframe tbody tr th {\n",
       "        vertical-align: top;\n",
       "    }\n",
       "\n",
       "    .dataframe thead th {\n",
       "        text-align: right;\n",
       "    }\n",
       "</style>\n",
       "<table border=\"1\" class=\"dataframe\">\n",
       "  <thead>\n",
       "    <tr style=\"text-align: right;\">\n",
       "      <th></th>\n",
       "      <th>reporting_airport</th>\n",
       "      <th>origin_destination</th>\n",
       "      <th>airline_name</th>\n",
       "    </tr>\n",
       "  </thead>\n",
       "  <tbody>\n",
       "    <tr>\n",
       "      <th>0</th>\n",
       "      <td>ABERDEEN</td>\n",
       "      <td>GDANSK</td>\n",
       "      <td>WIZZ AIR</td>\n",
       "    </tr>\n",
       "    <tr>\n",
       "      <th>1</th>\n",
       "      <td>ABERDEEN</td>\n",
       "      <td>WARSAW (CHOPIN)</td>\n",
       "      <td>WIZZ AIR</td>\n",
       "    </tr>\n",
       "    <tr>\n",
       "      <th>2</th>\n",
       "      <td>ABERDEEN</td>\n",
       "      <td>BELFAST CITY (GEORGE BEST)</td>\n",
       "      <td>FLYBE LTD</td>\n",
       "    </tr>\n",
       "    <tr>\n",
       "      <th>3</th>\n",
       "      <td>ABERDEEN</td>\n",
       "      <td>BIRMINGHAM</td>\n",
       "      <td>FLYBE LTD</td>\n",
       "    </tr>\n",
       "    <tr>\n",
       "      <th>4</th>\n",
       "      <td>ABERDEEN</td>\n",
       "      <td>BRISTOL</td>\n",
       "      <td>BMI REGIONAL</td>\n",
       "    </tr>\n",
       "    <tr>\n",
       "      <th>...</th>\n",
       "      <td>...</td>\n",
       "      <td>...</td>\n",
       "      <td>...</td>\n",
       "    </tr>\n",
       "    <tr>\n",
       "      <th>95</th>\n",
       "      <td>BELFAST INTERNATIONAL</td>\n",
       "      <td>GOOSE BAY</td>\n",
       "      <td>AIR CM GLOBAL LTD</td>\n",
       "    </tr>\n",
       "    <tr>\n",
       "      <th>96</th>\n",
       "      <td>BELFAST INTERNATIONAL</td>\n",
       "      <td>BRIDGETOWN</td>\n",
       "      <td>TUI AIRWAYS LTD</td>\n",
       "    </tr>\n",
       "    <tr>\n",
       "      <th>97</th>\n",
       "      <td>BELFAST INTERNATIONAL</td>\n",
       "      <td>PLOVDIV</td>\n",
       "      <td>THOMAS COOK AIRLINES LTD</td>\n",
       "    </tr>\n",
       "    <tr>\n",
       "      <th>98</th>\n",
       "      <td>BELFAST INTERNATIONAL</td>\n",
       "      <td>PRAGUE</td>\n",
       "      <td>EASYJET UK LTD</td>\n",
       "    </tr>\n",
       "    <tr>\n",
       "      <th>99</th>\n",
       "      <td>BELFAST INTERNATIONAL</td>\n",
       "      <td>VILNIUS</td>\n",
       "      <td>WIZZ AIR</td>\n",
       "    </tr>\n",
       "  </tbody>\n",
       "</table>\n",
       "<p>100 rows × 3 columns</p>\n",
       "</div>"
      ],
      "text/plain": [
       "        reporting_airport          origin_destination  \\\n",
       "0                ABERDEEN                      GDANSK   \n",
       "1                ABERDEEN             WARSAW (CHOPIN)   \n",
       "2                ABERDEEN  BELFAST CITY (GEORGE BEST)   \n",
       "3                ABERDEEN                  BIRMINGHAM   \n",
       "4                ABERDEEN                     BRISTOL   \n",
       "..                    ...                         ...   \n",
       "95  BELFAST INTERNATIONAL                   GOOSE BAY   \n",
       "96  BELFAST INTERNATIONAL                  BRIDGETOWN   \n",
       "97  BELFAST INTERNATIONAL                     PLOVDIV   \n",
       "98  BELFAST INTERNATIONAL                      PRAGUE   \n",
       "99  BELFAST INTERNATIONAL                     VILNIUS   \n",
       "\n",
       "                airline_name  \n",
       "0                   WIZZ AIR  \n",
       "1                   WIZZ AIR  \n",
       "2                  FLYBE LTD  \n",
       "3                  FLYBE LTD  \n",
       "4               BMI REGIONAL  \n",
       "..                       ...  \n",
       "95         AIR CM GLOBAL LTD  \n",
       "96           TUI AIRWAYS LTD  \n",
       "97  THOMAS COOK AIRLINES LTD  \n",
       "98            EASYJET UK LTD  \n",
       "99                  WIZZ AIR  \n",
       "\n",
       "[100 rows x 3 columns]"
      ]
     },
     "execution_count": 83,
     "metadata": {},
     "output_type": "execute_result"
    }
   ],
   "source": [
    "a = pd.read_csv('https://www.caa.co.uk/uploadedFiles/CAA/Content/Standard_Content/Data_and_analysis/Datasets/Punctuality_stats/2019/201901_Punctuality_Statistics_Full_Analysis.csv')\n",
    "a = a.drop_duplicates()\n",
    "features = a.filter(['reporting_airport', 'origin_destination', \n",
    "              'airline_name'])\n",
    "target = a['average_delay_mins']\n",
    "features.head(100)"
   ]
  },
  {
   "cell_type": "code",
   "execution_count": 84,
   "metadata": {
    "scrolled": true
   },
   "outputs": [
    {
     "data": {
      "text/plain": [
       "LabelBinarizer(neg_label=0, pos_label=1, sparse_output=False)"
      ]
     },
     "execution_count": 84,
     "metadata": {},
     "output_type": "execute_result"
    }
   ],
   "source": [
    "# Change labels to Binaries\n",
    "airports = features['reporting_airport'].drop_duplicates()\n",
    "airports = pd.concat([airports, features['origin_destination']]).drop_duplicates()\n",
    "airlines = features['airline_name'].drop_duplicates()\n",
    "\n",
    "airport_binarizer = LabelBinarizer()\n",
    "airport_binarizer.fit(airports)\n",
    "\n",
    "airline_binarizer = LabelBinarizer()\n",
    "airline_binarizer.fit(airlines)"
   ]
  },
  {
   "cell_type": "code",
   "execution_count": 85,
   "metadata": {
    "scrolled": false
   },
   "outputs": [],
   "source": [
    "reporting_airports = airport_binarizer.transform(list(features['reporting_airport']))\n",
    "origin_destination = airport_binarizer.transform(list(features['origin_destination']))\n",
    "airline_name = airline_binarizer.transform(list(features['airline_name']))\n",
    "\n",
    "reporting_airports = pd.DataFrame(reporting_airports ,columns=[\"rep_airport \" + str(int(i)) for i in range(reporting_airports.shape[1])])\n",
    "origin_destination = pd.DataFrame(origin_destination ,columns=[\"origin_destination \" + str(int(i)) for i in range(origin_destination.shape[1])])\n",
    "airline_name = pd.DataFrame(airline_name, columns=[\"airline_name \" + str(int(i)) for i in range(airline_name.shape[1])])\n",
    "features = pd.concat([reporting_airports, origin_destination, airline_name], axis=1)"
   ]
  },
  {
   "cell_type": "code",
   "execution_count": 86,
   "metadata": {},
   "outputs": [
    {
     "data": {
      "text/plain": [
       "0.35611688954928183"
      ]
     },
     "execution_count": 86,
     "metadata": {},
     "output_type": "execute_result"
    }
   ],
   "source": [
    "X_train, X_test, y_train, y_test = train_test_split(features, target, test_size=0.6, random_state=2)\n",
    "\n",
    "clf = svm.SVC(gamma=0.00001)\n",
    "              \n",
    "clf.fit(X_train, y_train.astype(int))\n",
    "pred = clf.predict(X_test)\n",
    "metrics.accuracy_score(pred, y_test.astype(int))"
   ]
  }
 ],
 "metadata": {
  "kernelspec": {
   "display_name": "Python 3",
   "language": "python",
   "name": "python3"
  },
  "language_info": {
   "codemirror_mode": {
    "name": "ipython",
    "version": 3
   },
   "file_extension": ".py",
   "mimetype": "text/x-python",
   "name": "python",
   "nbconvert_exporter": "python",
   "pygments_lexer": "ipython3",
   "version": "3.7.5"
  }
 },
 "nbformat": 4,
 "nbformat_minor": 2
}
